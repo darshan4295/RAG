{
 "cells": [
  {
   "cell_type": "markdown",
   "id": "ef315fea",
   "metadata": {},
   "source": [
    "### Rag Pipeline data ingestion to vector db pipeline"
   ]
  },
  {
   "cell_type": "code",
   "execution_count": 87,
   "id": "365e08d1",
   "metadata": {},
   "outputs": [],
   "source": [
    "import os\n",
    "from langchain_community.document_loaders import PyPDFLoader, PyMuPDFLoader\n",
    "from langchain_text_splitters import RecursiveCharacterTextSplitter\n",
    "from pathlib import Path"
   ]
  },
  {
   "cell_type": "code",
   "execution_count": 88,
   "id": "1ecd395d",
   "metadata": {},
   "outputs": [
    {
     "name": "stdout",
     "output_type": "stream",
     "text": [
      "Found 1 PDF files to process\n",
      "\n",
      "Processing: test2.pdf\n",
      "  ✓ Loaded 11 pages\n",
      "\n",
      "Total documents loaded: 11\n"
     ]
    }
   ],
   "source": [
    "### Read all the pdf's inside the directory\n",
    "def process_all_pdfs(pdf_directory):\n",
    "    \"\"\"Process all PDF files in a directory\"\"\"\n",
    "    all_documents = []\n",
    "    pdf_dir = Path(pdf_directory)\n",
    "    \n",
    "    # Find all PDF files recursively\n",
    "    pdf_files = list(pdf_dir.glob(\"**/*.pdf\"))\n",
    "    \n",
    "    print(f\"Found {len(pdf_files)} PDF files to process\")\n",
    "    \n",
    "    for pdf_file in pdf_files:\n",
    "        print(f\"\\nProcessing: {pdf_file.name}\")\n",
    "        try:\n",
    "            loader = PyPDFLoader(str(pdf_file))\n",
    "            documents = loader.load()\n",
    "            \n",
    "            # Add source information to metadata\n",
    "            for doc in documents:\n",
    "                doc.metadata['source_file'] = pdf_file.name\n",
    "                doc.metadata['file_type'] = 'pdf'\n",
    "            \n",
    "            all_documents.extend(documents)\n",
    "            print(f\"  ✓ Loaded {len(documents)} pages\")\n",
    "            \n",
    "        except Exception as e:\n",
    "            print(f\"  ✗ Error: {e}\")\n",
    "    \n",
    "    print(f\"\\nTotal documents loaded: {len(all_documents)}\")\n",
    "    return all_documents\n",
    "\n",
    "# Process all PDFs in the data directory\n",
    "all_pdf_documents = process_all_pdfs(\"../data\")"
   ]
  },
  {
   "cell_type": "code",
   "execution_count": 89,
   "id": "3bc6739c",
   "metadata": {},
   "outputs": [
    {
     "data": {
      "text/plain": [
       "[Document(metadata={'producer': 'Microsoft® Word 2016', 'creator': 'Microsoft® Word 2016', 'creationdate': '2018-03-05T09:43:57+01:00', 'author': 'agimeno', 'moddate': '2018-03-12T10:24:10-04:00', 'source': '..\\\\data\\\\pdf\\\\test2.pdf', 'total_pages': 11, 'page': 0, 'page_label': '1', 'source_file': 'test2.pdf', 'file_type': 'pdf'}, page_content=\"The EUROCALL Review, Volume 25, No. 2, September 2017 \\n \\n 18 \\nResearch paper \\n \\nA look at advanced learners’ use of mobile devices for \\nEnglish language study: Insights from interview data \\nMariusz Kruk \\nUniversity of Zielona Gora, Poland \\n______________________________________________________________ \\nmkruk @ uz.zgora.pl \\n  \\nAbstract \\nThe paper discusses the results of a study which explored advanced learners of English \\nengagement with their mobile devices to develop learning experiences that meet their \\nneeds and goals as foreign language learners. The data were collected from 20 students \\nby means of a semi -structured interview. The gathered data were subjected to \\nqualitative and quantitative analysis. The results of the study demonstrated that , on the \\none hand , some subjects manifested heightened awareness relating to the \\nadvantageous role of mobile devices in their learning endeavors, their ability to reach \\nfor suitable tools and retrieve necessary information so as to achieve their goals, meet \\ntheir needs and adjust their learning of English to their personal learning styles, and on \\nthe other, a rather intuitive and/or ad hoc use of their mobile devices in the classroom. \\nKeywords: Learner autonomy, mobile devices, advanced EFL learners, learning \\nEnglish. \\n  \\n1. Introduction \\nMobile devices, smartphones and tablet computers in particular, have generated a lot of \\ninterest among researchers in recent years (Byrne & Diem, 2014). This is b ecause the \\nopportunities these new technologies may offer (e.g. individualized learning, the variety \\nof mobile apps available, easy access to the internet) and/or the fact tha t they are \\nincreasingly more common among learners make them an important and pot entially \\nuseful addition to formal and informal language learning. \\nAccording to Benson (2011), there has always been a connection between educational \\ntechnologies and learner autonomy to the extent that they have often been intended for \\nindependent practice. It should be noted, however, that this link and “future enquiry \\nand practice into technology -mediated learner autonomy will need to be increasingly \\naligned to the tools, settings, and activities that are of significance to language learners” \\n(Reinders & White, 2016, p. 151). Reinders and White (2016) further argue that  as long \\nas “the potential range of settings, tools, and experiences is now virtually limitless, \\nindividuals need to be increasingly adept at critical adaptive learning in order to benefit \\nfrom and contribute effectively to those settings” (p. 151). Beyond doubt, contemporary \\nlanguage teachers should equip foreign/second language learners with appropriate \\nknowledge concerning the affordances of mobile devices for language study and they \\nshould prepare them for effective usage of such devices for this purpos e. It is also of \\nparamount importance, for both researchers and practitioners, to comprehend the link \\nbetween the modalities of the language learners' organization of their own learning \\nexperiences and environments and the role mobile technologies, in part icular \\nsmartphones and tablets, play in these contexts. \\nTaking into consideration the above -mentioned issues, the study reported in this article \\ninvestigated ways advanced English language students use their mobile devices (i.e. \\nsmartphones and tablet comp uters) for their language learning. The article commences \\nwith a short overview of relevant literature. Next, the design of the study is described,\"),\n",
       " Document(metadata={'producer': 'Microsoft® Word 2016', 'creator': 'Microsoft® Word 2016', 'creationdate': '2018-03-05T09:43:57+01:00', 'author': 'agimeno', 'moddate': '2018-03-12T10:24:10-04:00', 'source': '..\\\\data\\\\pdf\\\\test2.pdf', 'total_pages': 11, 'page': 1, 'page_label': '2', 'source_file': 'test2.pdf', 'file_type': 'pdf'}, page_content='The EUROCALL Review, Volume 25, No. 2, September 2017 \\n \\n 19 \\nnamely a research question, description of participants, data collection tools and \\nanalysis. This is followe d by the presentation of the results of the study. The article \\ncloses with discussion and conclusions. \\n2. Literature review \\n2.1. Autonomy in foreign/second language learning \\nThe concept of autonomy in second/foreign language learning and teaching has been \\nthe focus of attention for many researchers and practitioners for more than three \\ndecades. According to Benson (2001), the notion of autonomy was introduced and \\npopularized in 1981 by Henri Holec in his seminal report for the Council of Europe \\nentitled Autonomy in Foreign Language Learning  in which the researcher defined \\nautonomy in the context of language learning as “the ability to take charge of one’s own \\nlearning” (Holec, 1981, p. 3). Holec’s idea of autonomy encompasses some components \\nand capacities o n the part of language learners (e.g. self -directed learning). For some \\nother authors autonomy also involves “a capacity – for detachment, critical reflection, \\ndecision-making, and independent action” (Little, 1991, p. 4) and “the capacity to take \\ncontrol of one’s own learning” (Benson, 2001, p. 46). As stated by Benson (2011, p. \\n16), “autonomy is multidimensional and takes many different forms according to the \\nperson, the setting, and multiple contextual and micro -contextual factors” and it is “a \\nmulti-faceted concept that consists of several layers” (Reinders, 2011, p. 48) whose \\nroots are based in political, societal and educational developments. In addition to this, \\nwork on autonomy emphasizes social dimensions of learner autonomy in view of the \\nfact that “autonomous learners always do things for themselves, but they may or may \\nnot do things on their own” (Little, 2009, p. 223) and that by means of social \\ninteractions language learners “develop a capacity to analyze, reflect upon and \\nsynthesize information to create new perspectives” (Lee, 2011, p. 88). It should also be \\nnoted that recent research shows that fostering autonomy is no longer predominantly a \\nmatter of individualizing learning through out -of-class initiatives since the dominance of \\nclassroom-based approaches (Benson, 2011). Finally, it has to be added that \\nresearchers, in general, seem to be in agreement with the following claims suggested \\nby Benson (2011): “(a) language learners naturally tend to take control of their \\nlearning, (b) learners who  lack autonomy are capable of developing it, and (c) \\nautonomous language learning is more effective than non -autonomous language \\nlearning” (p. 16). \\nPerhaps in order to define the concept of autonomy in language learning it is necessary \\nto understand who au tonomous learners are. As Littlewood (1996) claims, an \\nautonomous learner is “one who has independent capacity to make and carry out \\nchoices which govern his or her actions” (p. 428). The researcher argues that this \\ncapacity depends on two major components  such as ability and willingness, and he \\nclaims that the attributes can also be further subdivided. Thus, ability depends on \\nhaving knowledge about the options from which one can choose and skills so as to \\nchoose the most suitable alternatives. When it com es to willingness, this depends on \\nhaving motivation and confidence in order to take responsibility for adequate choices. \\nMoreover, Littlewood (1996) argues that if an individual is to be successful in being \\nautonomous, all of these components have to be present all together. \\nAt the close of this section, a few words are in order on the notion of autonomous \\nlanguage learning. An interesting description of the concept in question is offered by \\nReinders (2011), who defines autonomous language learning as “an act of learning \\nwhereby motivated learners consciously make informed decisions about that learning” \\n(p. 48). According to the said researcher, it is not possible or needed in all acts of \\nlearning to be able or ready to intentionally make decisions since di fferent learning \\nsituations present different demands. Reinders (2011) further argues that “autonomy is \\nnot an either-or concept, but has to be seen as a continuum” (p. 48). This is because a \\nlearner can display more or less autonomy in different learning circumstances. \\nAutonomy, in Reinders’ terms changes over time between skills and within skills and \\nthus it is difficult to achieve and is not invariably permanent (Reinders, 2011).'),\n",
       " Document(metadata={'producer': 'Microsoft® Word 2016', 'creator': 'Microsoft® Word 2016', 'creationdate': '2018-03-05T09:43:57+01:00', 'author': 'agimeno', 'moddate': '2018-03-12T10:24:10-04:00', 'source': '..\\\\data\\\\pdf\\\\test2.pdf', 'total_pages': 11, 'page': 2, 'page_label': '3', 'source_file': 'test2.pdf', 'file_type': 'pdf'}, page_content='The EUROCALL Review, Volume 25, No. 2, September 2017 \\n \\n 20 \\n2.2. Autonomy and new technologies \\nAs stated in the previous section, the concept of autonomy has been one of the most \\nresearched areas in the field of second/foreign language learning and teaching over the \\nlast few decades. It should be noted, however, that the field of learner autonomy \\nstarted to be influenced by technology in the mid -1990s as a result of the growing \\ninfluence of the internet on almost every sphere of our life (including second/foreign \\nlanguage education) and the opportunities for online collaboration and communication \\n(Reinders & White, 2016). As stated by Benson and Chik (2010), the latest generations \\nof new technologies, particularly those encompassing the internet, user-generated Web \\ncontent and mobility , seem to be having a bearing on the way autonomous language \\nlearning develops. Perhaps, one of the most important benefits of implementing new \\ntechnologies into language learning is the fact that they provide occasions for language \\nlearners who do not have direct access to the target language. This is because the use \\nof new technologies, including mobile technology, allow them to “bypass classrooms and \\ngo directly to target language texts and users through the internet and social media” \\n(Benson, 2011, p. 17). \\nWhen it comes to the use of mobile technology, and, in particul ar, smartphones and \\ntablet computers, for learning a foreign or second language, they can assist language \\nlearners with their learning endeavors by granting access to numerous language \\nresources whenever and wherever such learners need them and/or they hap pen to be \\n(Jones, 2015). In Jones’s opinion, such language involvement might comprise, for \\ninstance, the use of chunks of spare time for language practice, search ing for target \\nlanguage vocabulary in relevant contexts or interactions on social media (Jones , 2015). \\nFurthermore, by having a mobile device a language learner has the opportunity to take \\ncontrol of his or her learning, direct it and engage in language activities that meet his or \\nher individual needs and goals (Kukulska -Hulme, Traxler & Pettit, 20 07; Pettit & \\nKukulska-Hulme 2007). \\nGiven the importance attached to new technologies, and, in particular the potential role \\nof mobile devices in autonomous language learning, the terms  mobile \\nlearning and mobile devices (MobDs) need first to be explained. As for mobile learning, \\nno single agreed -upon definition of the term exists in the literature (Oz, 2015). This is \\nbecause some researchers define mobile learning as an extension of e -learning built \\nupon mobile devices whereas some other researchers understand  it as learning that \\nhappens anywhere and anytime (cf. Oz, 2015). As far a s mobile devices are concerned, \\nthey can be defined as “any device that is small, autonomous and unobtrusive enough \\nto accompany us in every moment and can be used for educational purposes” \\n(Trifanova Knapp, Ronchetti & Gamper, 2004, p. 3) or as “hand held electronic devices \\nthat can be comfortably carried around in a pocket or bag, including MP3 players, digital \\nrecorders, e -readers, tablets, and smartphones” (Kukulska -Hulme, Norris & Donohue, \\n2015, p. 39). \\nA lot of studies concerning the use of mobile tech nology and mobile devices in language \\nlearning have been published. The f indings of these studies concentrated on, for \\nexample, language learners’ views on the use of mobile devices in language instruction \\n(e.g. Oz, 2015), students’ attitudes towards using  mobile phones as instructional tools \\nfor foreign language learning (e.g. Cakir, 2015), profiling mobile language learners (e.g. \\nByrne & Diem, 2014), their effect on learning a foreign/second language (e.g. Nah, \\nWhite & Sussex, 2008; Cavus & Ibrahim, 2009;  Zhang, Song & Burston, 2011), \\ndistance language learning (e.g. Demouy, Jones, Kan, Kukulska -Hulme & Eardley, \\n2016), informal language learning practices (Reinders & Cho, 2011; Jones, 2015), \\nlearners’ use of mobile devices for learning a foreign language ( Stockwell, 2007; \\nDashtestani, 2015) and autonomy in language learning (e.g. Díaz -Vera, 2012; Djoub, \\n2015). In addition to this, researchers investigated a number of applications of mobile \\ndevices and presented both benefits and drawbacks of the usage of mo bile technologies \\n(e.g. Miangah & Nezarat, 2012), discussed the use of mobile devices in supporting \\nsocial contacts and collaborative learning (e.g. Kukulska -Hulme & Shield, 2008) and \\noffered guidelines related to the implementation of mobile learning into  second/foreign \\nlanguage instruction (e.g. Kukulska-Hulme et al., 2015).'),\n",
       " Document(metadata={'producer': 'Microsoft® Word 2016', 'creator': 'Microsoft® Word 2016', 'creationdate': '2018-03-05T09:43:57+01:00', 'author': 'agimeno', 'moddate': '2018-03-12T10:24:10-04:00', 'source': '..\\\\data\\\\pdf\\\\test2.pdf', 'total_pages': 11, 'page': 3, 'page_label': '4', 'source_file': 'test2.pdf', 'file_type': 'pdf'}, page_content='The EUROCALL Review, Volume 25, No. 2, September 2017 \\n \\n 21 \\n3. Method \\n3.1. Research question \\nOne of the questions related to future research and practice in technology -mediated \\nlearner autonomy addressed by Reinders and White in their recent  critical overview of \\nthe relationship between technology and autonomy in the journal  Language Learning & \\nTechnology (LLT)  concerned language learners engagement with technology -mediated \\nenvironments in order to develop learning experiences that reach thei r aims and meet \\ntheir needs as language learners (Reinders & White, 2016). Taking this important \\nmatter into consideration , and in view of the fact that mobile technology, including \\nmobile devices such as smartphones and tablet computers , are ubiquitous and \\nsubstantial constituents of almost every language learner’s everyday life, the \\nabovementioned question was modified and posed in this study in the following way: \\nDo students engage with their mobile devices to develop learning experienc es \\n(e.g. the use of mobile devices for formal and/or informal English language \\nstudy) that meet their needs and goals (e.g. the development of the target \\nlanguage skills and sub-skills) as English language learners? If yes, why and how \\ndo they do this? \\n3.2. Participants \\nThe participants were 20 Polish university students of English philology, nine of whom \\n(seven females and two males) were in the second year of their BA programme, six \\n(five females and one male) in the third year and five (all females) in the second year of \\ntheir MA program (1). The study participants were on average 22.22 years old (20.66 - \\nyear 2, BA; 21.82 - year 3, BA and 24.50 - year 2, MA). The subj ects reported having \\nlearned English for an average of 11.38 years (10.49 - year 2, BA; 11.27 - year 3, BA \\nand 12.21 - year 2, MA). The proficiency level represented by the participants of the \\nstudy could be described as somewhere between B1 and B2 (second  year BA students), \\nB2 and C1 (third year BA students) and C1 and C2 (second year MA students), as \\nspecified in the levels laid out in the  Common European Framework of Reference for \\nLanguages. \\n3.3. Data collection and analysis \\nThe data were gathered by means of a semi-structured interview. This interview format \\nwas chosen intentionally since it uses a set of prepared in advance guiding questions \\nand prompts and interviewees are encouraged to elaborate on the problems raised \\nduring it (Dörnyei, 2007). As Dörnyei (2007) explains, in this type of the interview “the \\ninterviewer provides guidelines and direction (hence the ‘ -structured’ part in the name), \\nbut is also keen to follow up interesting developments and to let the interviewee \\nelaborate on certain issues (hence the ‘semi-’ part)” (p. 136). \\nDuring the interview, the present researcher attempted to encourage the subjects to \\ndescribe their learning experiences concerning the use of mobile devices for English \\nstudy. This was a form of introspection where t he students were prompted to examine \\ntheir behaviors and provide a first person narrative of such experiences. All the study \\nparticipants were informed that the interview concerned the use of mobile devices for \\nEnglish study and they were asked for permiss ion to be digitally recorded. In order to \\nobtain relevant data the following questions were asked (2): \\n\\uf0b7 Do you use your mobile devices (e.g. smartphones, tablets, MP3 pl ayers, \\nPDAs) for learning English? \\n\\uf0b7 Why do you use your mobile device(s) for learning English? \\n\\uf0b7 When did you start using your mobile device(s) for learning English? Has the \\nuse of your mobile device(s) increased or decreased since that time? \\n\\uf0b7 Do you use your mobile device(s) during classes? \\n\\uf0b7 Do you use your mobile device(s) more frequently in - or out-of-class English \\nlearning? \\n\\uf0b7 What mobile apps have you been using most frequently and/or recently? \\n\\uf0b7 Do you use your mobile device(s) more often in relation to formal or informal \\nEnglish language study?'),\n",
       " Document(metadata={'producer': 'Microsoft® Word 2016', 'creator': 'Microsoft® Word 2016', 'creationdate': '2018-03-05T09:43:57+01:00', 'author': 'agimeno', 'moddate': '2018-03-12T10:24:10-04:00', 'source': '..\\\\data\\\\pdf\\\\test2.pdf', 'total_pages': 11, 'page': 4, 'page_label': '5', 'source_file': 'test2.pdf', 'file_type': 'pdf'}, page_content='The EUROCALL Review, Volume 25, No. 2, September 2017 \\n \\n 22 \\n\\uf0b7 Do you organize regular formal or informal mobile English language learning \\nsessions? \\n\\uf0b7 What do you learn most frequently by means of your mobile device(s)? Why \\nthis? \\n\\uf0b7 Do you feel that thanks to the use of your mobile devic e(s) you devote more \\ntime for learning the English language? \\n\\uf0b7 As far as learning English through your mobile device(s) is concerned, do you \\nconsider yourself as an experienced user of such device(s)? \\nThe gathered data were subjected to qualitative and quant itative analysis. The analysis \\nstarted with partial transcription of the important parts of the data (Dörnyei, 2007) on a \\ncomputer word processor program  Microsoft Word 2016 . Then the transcribed parts of \\nthe data were read several times in order to look f or common themes and frequently \\noccurring information. The recurring ideas were coded and recoded, revised and \\nupdated. The researcher used the highlighting function of the word processor program \\nwhich allows the user to highlight the text on the transcrip t with different colors and \\ncomments to record any observations and thematic categories recognized in the data. \\nThe emerged categories were reviewed, compared, modified and either merged or \\nabandoned. It should also be noted that the obtained data were ana lyzed quantitatively. \\nThis type of analysis involved counting the number of the interviewees’ responses and \\ncalculating percentages. \\n4. Findings \\nA thorough analysis of the data yielded the following thematic categories:  usage of \\nmobile devices , reasons for  using mobile devices , resources and tools , mobile \\nencounters, language practiced and study performance. \\n4.1. Usage of mobile devices \\nTable 1 shows the study participants’ mobile devices (MobDs) usage descriptions. The \\ntable demonstrates that smartphones w ere the most often used mobile devices by the \\nstudents. In addition, the numerical information in the table indicates that the \\nparticipants, on average, had been using them for English language study for about \\n3.80 years (minimum 2, maximum 6 years). 9 (45 %) and 11 (55%) of the subjects \\nstarted using their mobile devices at senior high school and university, respectively. It \\nshould also be added that, with the exception of one student (i.e. S9), all the other \\nparticipants claimed to use their mobile devices  in order to learn English much more \\nfrequently with time. Finally, more than half of the students (55%) regarded themselves \\nas experienced or fairly experienced users of their MobDs for English language learning; \\nhowever, 45% claimed not to be very skilful in this area. \\nTable 1. The students’ mobile devices usage descriptions. \\nYear/ \\nLevel of \\nstudy \\nStudent Sex Device used \\nUse of MobDs \\nfor language \\nstudy (approx.) \\nSelf-assessed \\nexperience \\n2nd year \\nB.A. \\nS1 female smartphone and tablet 2 years not very experienced \\nS2 female smartphone 5 years experienced \\nS3 female smartphone 5 years fairly experienced \\nS4 female smartphone, rarely tablet 4 years fairly experienced \\nS5 female smartphone 3 years not very experienced \\nS6 male smartphone 2 years experienced \\nS7 female smartphone and tablet 5 years fairly experienced'),\n",
       " Document(metadata={'producer': 'Microsoft® Word 2016', 'creator': 'Microsoft® Word 2016', 'creationdate': '2018-03-05T09:43:57+01:00', 'author': 'agimeno', 'moddate': '2018-03-12T10:24:10-04:00', 'source': '..\\\\data\\\\pdf\\\\test2.pdf', 'total_pages': 11, 'page': 5, 'page_label': '6', 'source_file': 'test2.pdf', 'file_type': 'pdf'}, page_content='The EUROCALL Review, Volume 25, No. 2, September 2017 \\n \\n 23 \\nS8 female smartphone 2 years fairly experienced \\nS9 male smartphone 4 years not very experienced \\n3rd year \\nB.A. \\nS10 female smartphone 5 years fairly experienced \\nS11 female tablet and cell phone 2 years fairly experienced \\nS12 female smartphone 2 years not very experienced \\nS13 female smartphone 3 years not very experienced \\nS14 male smartphone and tablet 3 years experienced \\nS15 female smartphone and tablet 5 years fairly experienced \\n2nd year \\nM.A. \\nS16 female smartphone 3 years not very experienced \\nS17 female smartphone and tablet 6 years fairly experienced \\nS18 female smartphone 5 years not very experienced \\nS19 female smartphone and tablet 5 years not very experienced \\nS20 female smartphone and tablet 5 years fairly experienced \\n \\n4.2. Reasons for using mobile devices \\nThe study participants decided on the use of their MobDs in order to learn English for \\nthe reason that they regarded them as convenient, fast and always ready to use. In \\naddition, some students pointed to the fact that the use of MobDs allowed them to have  \\nquick access to the internet and organize their own study materials and/or resources. \\nIllustrative examples of such opinions are provided below (3): \\nS10: It’s very comfortable. I can reach for my dictionary any time I want and I \\ndon’t have to carry thick books (...) The main aspect is convenience. \\nS5: It’s because I can find needed information ... it’s convenient because I \\nalways carry my smartphone and I have access  to the internet all the time (...) \\nAt home I also use my smartphone and I don’t mind it has a small screen. \\nS14: My tablet lets me organize things and keep my documents in one place. \\nThis is because studying English means having countless study materials (...) I \\ncan store them there (...) this also gives me easier access to them (...) In \\naddition, my smartphone can successfully replace a traditional paper dictionary \\nand I don’t have to waste time in thumbing through a lot of pages to find words \\nI’m looking for. \\n4.3. Resources and tools \\nThe analysis of the data revealed that the students made use of both online resources \\nand mobile apps. The most frequently used language tools were online dictionaries \\n(e.g. diki, ColorDict Dictionary ) and a variety of mobile  apps, such as  Google \\nTranslate, Duolingo and Fiszkoteka. The students usually accessed these tools in order \\nto check, revise and learn the target language vocabulary. Two students also reported \\nusing Voscreen and WhatsApp, i.e. mobile apps for watching vi deo and communicating \\nwith people, respectively. It should also be noted that the interviewees pointed out \\nvarious online resources they used with the purpose of practicing reading and listening \\nskills (e.g.  TED, online newspapers,  YouTube), vocabulary (e. g. 6 Minute'),\n",
       " Document(metadata={'producer': 'Microsoft® Word 2016', 'creator': 'Microsoft® Word 2016', 'creationdate': '2018-03-05T09:43:57+01:00', 'author': 'agimeno', 'moddate': '2018-03-12T10:24:10-04:00', 'source': '..\\\\data\\\\pdf\\\\test2.pdf', 'total_pages': 11, 'page': 6, 'page_label': '7', 'source_file': 'test2.pdf', 'file_type': 'pdf'}, page_content='The EUROCALL Review, Volume 25, No. 2, September 2017 \\n \\n 24 \\nEnglish, PONS, Google Translate ) and having access to language materials \\n(e.g. Academica). Finally, some students used their MobDs in order to read language \\nmaterials downloaded from the internet (e.g. PDF files). The following responses \\nillustrate some of these issues: \\nS5: I use apps for “index cards”, dictionaries and a variety of apps for \\ndeveloping English vocabulary. \\nS10: I have some online friends and I talk with them in English (Do you do this \\nby means of instant messaging applications?) Yes, I use WhatsApp Messenger. \\nS15: I often read scanned book pages and pdf materials (…) I access English \\nvocabulary by means of online dictionaries. \\nS20: Fiszkoteka. I frequently use this app (...) I also listen to podcasts and I \\nhave the app called Six minutes English in order to practice listening (...) Also \\nbecause vocabulary is used in a variety of contexts. \\n4.4. Mobile encounters \\nThirteen (65%) interviewees claimed to use their MobDs most frequently in their leisure \\ntime, six (30%) in the classroom a nd one student said he had used his smartphone \\nequally frequently in the classroom and out -of-class English study. As for the students \\nwho used their smartphones or tablet computers in their leisure time, some of them did \\nit with the aim of reading English  texts, listening to audio resources, checking and \\nlearning new vocabulary, preparing multimedia presentations and playing language \\ngames. This is not to say, of course, that this group of learners did not use their MobDs \\nat all during classes; however, th e use of MobDs in this respect was only limited to \\nchecking target language vocabulary (e.g.  S1: I use my smartphone, for example, to \\ncheck something I don’t understand (...) I installed a dictionary and I use it to find \\nwords). When it comes to the subjects who claimed to use their MobDs  most frequently \\nin the classroom, they used them to check unfamiliar vocabulary and/or find words they \\nneeded during various language activities. It is also important to note that these \\nstudents were not very willing to u se their MobDs at home in view of the fact that they \\nfavored their home computers. For example: \\nS7: I use them outside of University in order to learn and practice English \\nvocabulary and to prepare multimedia presentations. \\nS13: In my free time I learn Eng lish words and phrases, listen to English \\nrecordings and I read various texts in English. \\nS19: Yes, I use my smartphone and tablet for out -of-class learning but I also \\nuse them during classes mostly to check words and collocations. \\nS16: I think I do this d uring practical English language classes more regularly in \\nthe classroom than outside of it (...) In the classroom I check English words in \\ndigital dictionaries (...) I do this to check words, spelling, or to recall some words \\n(...) or I use my smartphone to look for synonyms (...). \\nThe analysis of the gathered data also demonstrated that the majority of the \\ninterviewees (13 or 65%) were in favor of using their smartphones and/or tablet \\ncomputers for informal English learning (i.e. learning the target langu age for pleasure) \\nand 7 (35%) students associated the use of their MobDs with formal learning (i.e. \\nrelated to their studies). It should be noted, however, that only two interviewees \\nclaimed to hold and somewhat organize regular mobile English language sessions: \\nS10: I think this is what I have talked about earlier, I mean these chats with my \\nfriends. Perhaps we don’t chat very regularly ... we chat three times a week and \\nthat’s it but, at the same time, it’s not sporadic because we arrange it and it \\ntakes place pretty regularly. \\nS16: I often watch videos on YouTube and I do this the most often through my \\nsmartphone. \\nFinally, it has to be noted that the use of mobile devices was not explicitly advised or \\nsuggested by the interviewees’ teachers during their practical English language classes \\nor any other classes at the university. This is not to say, of course, that the y never'),\n",
       " Document(metadata={'producer': 'Microsoft® Word 2016', 'creator': 'Microsoft® Word 2016', 'creationdate': '2018-03-05T09:43:57+01:00', 'author': 'agimeno', 'moddate': '2018-03-12T10:24:10-04:00', 'source': '..\\\\data\\\\pdf\\\\test2.pdf', 'total_pages': 11, 'page': 7, 'page_label': '8', 'source_file': 'test2.pdf', 'file_type': 'pdf'}, page_content='The EUROCALL Review, Volume 25, No. 2, September 2017 \\n \\n 25 \\nreferred their students to electronic or online resources; however, they did not ask \\nstudents to use them in classes, they did not recommend any mobile apps or design \\nlanguage tasks which required  using such devices in order to solve them. \\n4.5. Language practiced \\nWhen asked to indicate the most frequently practiced language skills and subsystems by \\nmeans of mobile devices, all the interviewees indicated the target language vocabulary. \\nIn addition to this, some referred to pronunciation and only a f ew students mentioned \\ngrammar and practicing reading, listening and speaking skills. As far as practicing \\nEnglish vocabulary is concerned, the subjects chose to practice it through their \\nsmartphones and/or tables because they regarded this language subsyst em as the most \\nimportant to learn, they praised their MobDs for providing them with quick and easy \\naccess to needed words and see the way they were used in given sentences. As was \\nstressed by many of the interviewees, learning English vocabulary by means o f mobile \\ndevices also allowed them to check correct pronunciation of words (i.e. they listened to \\nit or paid attention to phonetic transcription of words). The following excerpts exemplify \\nthe most typical usage of MobDs by the study participants: \\nS3: (…) as for vocabulary I guess it’s much faster to search for words and know \\nhow to use them in sentences. \\nS6: It’s easy and it’s very easy to look for words when I need them. \\nS12: (…) I need vocabulary not only to communicate in English (…) when I look \\nfor wor ds I look at contexts words are used (...) I always pay attention to \\nspelling and also listen to pronunciation (How about phonetic transcription of \\nwords?) Phonetic transcription of words ... yes but not often unless audio is poor \\nquality or it seems to so und somehow differently ... then I make sure how a \\nword is pronounced and I read its phonetic transcription given there. \\nAs mentioned earlier, only a few students resorted to their MobDs in order to practice \\nother language areas such as listening, reading and speaking as well as grammar. This \\nis because they preferred more traditional resources (e.g. grammar books), they used \\nother devices (e.g. laptop computers) or they regarded themselves as quite proficient in \\nparticular language skills and thus they did  not feel the need to master them by way of \\nMobDs. Representative excerpts from the interviewees’ responses follow: \\nS3: When it comes to grammar, for me it’s more convenient to use grammar \\nbooks to learn it. \\nS2: (…) I’m pretty good at English grammar and l istening and I don’t have to \\nuse my smartphone to learn these language elements. \\nS12: I think I’m quite good at grammar and I practice listening skills by means \\nof my laptop computer. \\n4.6. Study performance \\nThere is evidence that the use of mobile devices became an impetus for studying \\nEnglish more and learn this language more effectively and efficiently (this advantageous \\neffect was expressed by as many as 15 or 75% interviewees). This is because  access to \\na smartphone or a tablet allows some learners  devote more time to learning English \\n(S1: Yes, I think so. I think I spend more time ... If I was to use traditional materials, \\nfor example, books, I wouldn’t devote so much time to it.;  S15: It seems to me th at I \\ndedicate more time to learn English this way and I learn more. ), encouraged another \\nstudent to learn more (S6:  I’m more willing to use my smartphone than open a paper \\ndictionary.) and allowed yet another subject to learn more vocabulary (S12:  Yes, \\ndefinitely. I wouldn’t have learned these words if I hadn’t used my phone. ). Such \\nbeneficial outcomes of the use of MobDs are best described by one of the interviewees \\nwho said: \\nIf I’m to say that I devote more time for learning English it’s because I can \\ndevote more time to learning it ... in the way I compare a paper dictionary with \\nan online one ... for example to check one word ... If I use a traditional \\ndictionary it takes me longer, say three minutes, but If I use an online dictionary \\nit takes me, say, t en seconds (...) this way I can devote less time to looking for'),\n",
       " Document(metadata={'producer': 'Microsoft® Word 2016', 'creator': 'Microsoft® Word 2016', 'creationdate': '2018-03-05T09:43:57+01:00', 'author': 'agimeno', 'moddate': '2018-03-12T10:24:10-04:00', 'source': '..\\\\data\\\\pdf\\\\test2.pdf', 'total_pages': 11, 'page': 8, 'page_label': '9', 'source_file': 'test2.pdf', 'file_type': 'pdf'}, page_content=\"The EUROCALL Review, Volume 25, No. 2, September 2017 \\n \\n 26 \\ninformation and more on language production, on the use of English ... there is \\nless time used but it’s more effective. (S14) \\nIt is also interesting to note that the use of mobile devices migh t be valuable for \\nkinesthetic or tactical language learners: \\nI think I spend more time … for me it’s much nicer and more interesting than \\nsitting and reading books … it’s better for me since I’m kinesthetic so it’s hard \\nfor me to sit and read a traditional  book ... it’s because I don’t remember then \\nmuch but when I use my smartphone which is mobile I can ... I can do it while \\ndoing other activities and this makes things easier for me. (S5) \\nFinally, it should be noted that 5 (25%) interviewees were not able to say whether or \\nnot the use of mobile devices made them study the target language more effectively or \\nefficiently and they expressed their opinion by simply claiming that “It’s difficult to say”. \\n5. Discussion and conclusions \\nThe picture that emerges from the analysis of the collected data regarding the advanced \\nlearners' use of mobile devices for learning English is relatively encouraging. This is \\nbecause all the study participants used, at least to some extent, their mobile devices \\n(i.e. smartphones and /or tablet computers) in order to learn the English language \\nautonomously. Moreover, the positive impact of using mobile devices for English study \\nwas acknowledged by the majority of the interviewees. Their beneficial contribution to \\ntheir English developm ent was chiefly linked with easy access to English language \\nresources, the opportunity to store them, comfort in using their smartphones and \\ntablets anywhere and anytime as well as perceived gains in English learning. The results \\nof the study also showed t hat all interviewees engaged with their smartphones and/or \\ntablet computers to practice the target language vocabulary (plus some students also \\nclaimed to learn pronunciation of English words) and the majority of the subjects used \\ntheir mobile devices auto nomously in their leisure time as well as during language \\nclasses. Such a state of affairs can be explained in terms of increased awareness on the \\npart of some students of the beneficial role of MobDs in foreign language learning, their \\nability to reach fo r appropriate tools and retrieve needed information to achieve their \\ngoals and adjust their learning of the target language to their personal learning styles. \\nDespite this positive view of MobDs reported by the study participants, the results of the \\nstudy also revealed that only a few subjects engaged with  their mobile devices to \\nmaster target language skills such as reading, listening, writing and speaking as well as \\nEnglish language grammar. In addition, some interviewees limited themselves to a \\nrather intuitive and perhaps even spontaneous use of their mobile devices in the \\nlanguage classroom. It should also be noted that almost half of the subjects regarded \\nthemselves as quite inexperienced in using their mobile devices when it comes to \\nlearning the English language despite the fact that some of the students had been using \\nthem with t he intention of learning English for years. Taking all these findings into \\naccount, one may conclude that this is due to a failure or underestimation of the role \\nand place of mobile devices in foreign language learning and teaching on the part of \\nlanguage teachers. It seems therefore warranted to say that the subjects’ use of mobile \\ndevices could be altered if teachers took into account the benefits they may offer. For \\nthis reason language teachers should, for instance, present the affordances of mobile \\ntechnology and discuss them with students during language classes. They should also \\nselect mobile apps and create opportunities for using them in - and out-of-class learning \\nby offering or designing tasks devoted to practicing a variety of language skills and \\nsubsystems suitable for the use of such devices. If this were to happen, teachers need \\nto respond quickly to the constant and dynamic changes in contemporary \\nforeign/second language learning and teaching contexts by undergoing official teacher \\ntraining not only in the area of technology-mediated language learning and teaching but \\nalso in the context of learner autonomy. \\nAs with all studies , the study reported in this paper has some limitations. Although the \\ninterviewees represented a range of experience of English language learning, the small \\nnumber of participants reduces the generalizability of the results. Another limitation is \\nrelated to the fact that the group was largely homogenous, i.e. the subjects came from \\nthe same institution and all studied English. Yet another weakness may concern the\"),\n",
       " Document(metadata={'producer': 'Microsoft® Word 2016', 'creator': 'Microsoft® Word 2016', 'creationdate': '2018-03-05T09:43:57+01:00', 'author': 'agimeno', 'moddate': '2018-03-12T10:24:10-04:00', 'source': '..\\\\data\\\\pdf\\\\test2.pdf', 'total_pages': 11, 'page': 9, 'page_label': '10', 'source_file': 'test2.pdf', 'file_type': 'pdf'}, page_content='The EUROCALL Review, Volume 25, No. 2, September 2017 \\n \\n 27 \\ndata collection instrument, namely the semi -structured interview which was conducted \\nonly once. Perhaps a different set of questions, their wording or a series of such \\ninterviews carried out over a particular period of time (say one academic year) may \\nhave yielded more detailed and insightful results. Despite these limitations, this study \\nprovided some insights into why and how advanced English language learners engage \\nwith their mobile devices to develop learning experiences. It should be stressed, \\nhowever, that teacher involvement in creating conditions conducive to the use of mobile \\ndevices for lan guage study may result in greater learner engagement with mobile \\ntechnology (i.e. mobile devices) and, at the same time, may lead to greater students’ \\nindependence in learning the target language. \\n  \\nReferences \\nBenson, P. (2001).  Teaching and researching au tonomy in language learning . Harlow: \\nPearson Education. \\nBenson, P. (2011). What’s new in autonomy? The Language Teacher, 35(4), 15-18. \\nBenson, P. & Chik, A. (2010). New literacies and autonomy in foreign language learning. \\nIn M. J. Luzón, M. N. Ruiz -Madrid & M. L. Villanueva (Eds.),  Digital genres, new \\nliteracies, and autonomy in language learning  (pp. 63 -80). Newcastle -upon-Tyne: \\nCambridge Scholars Publishing. \\nByrne, J. & Diem, R. (2014). Profiling mobile English language learners.  The JALT \\nCALL Journal I, 10 (1), 3-19. \\nCakir, I. (2015). Opinions and attitudes of prospective teachers for the use of mobile \\nphones in foreign language learning.  Contemporary Educational Technology , 6(3), 239-\\n255. \\nCavus, N. & Ibrahim, D. (2009). m -Learning: An experiment in usin g SMS to support \\nlearning new English language words.  British Journal of Educational Technology , 40(1), \\n78-91. \\nDashtestani, R. (2015). Moving bravely towards mobile learning: Iranian students’ use \\nof mobile devices for learning English as a foreign language. Computer Assisted \\nLanguage Learning, 29(4), 815-832. \\nDemouy, V., Jones, A., Kan, Q., Kukulska-Hulme, A. & Eardley, A. (2016). Why and how \\ndo distance learners use mobile devices for language learning?  The EuroCALL \\nReview, 24(1), 10-24. \\nDíaz-Vera, J. (Ed.). (2012).  Left to my own devices: Learner autonomy and mobile -\\nassisted language learning. Bingley, UK: Emerald Group. \\nDjoub, Z. (2015). Mobile technology and learner autonomy in language learning. In J. \\nKeengwe (Ed.),  Promoting active learning thr ough the integration of mobile \\nand ubiquitous technologies (pp. 194-212). Hershey: IGI Global. \\nDörnyei, Z. (2007).  Research methods in applied linguistics . Oxford: Oxford University \\nPress. \\nHolec, H. (1981). Autonomy and foreign language learning. Oxford: Pergamon Press. \\nJones, A. (2015). Mobile informal language learning: Exploring Welsh learners’ \\npractices, eLearning Papers, 45, 4-14. \\nKukulska-Hulme, A., Norris, L. & Donohue, J. (2015).  Mobile pedagogy for English \\nlanguage teaching: A guide for teachers. British Council, London. \\nKukulska-Hulme, A. & Shield, L. (2008). An overview of mobile assisted language \\nlearning: From content delivery to supported collaboration and \\ninteraction. ReCALL, 20(3), 271-289. \\nKukulska-Hulme, A., Traxler, J. & Pettit, J. (2007).  Designed and user -generated \\nactivity in the mobile age. Journal of Learning Design, 2(1), 52-65. \\nLee, L. (2011). Blogging: Promoting learner autonomy and intercultural competence \\nthrough study abroad. Language Learning & Technology, 5, 87-109.'),\n",
       " Document(metadata={'producer': 'Microsoft® Word 2016', 'creator': 'Microsoft® Word 2016', 'creationdate': '2018-03-05T09:43:57+01:00', 'author': 'agimeno', 'moddate': '2018-03-12T10:24:10-04:00', 'source': '..\\\\data\\\\pdf\\\\test2.pdf', 'total_pages': 11, 'page': 10, 'page_label': '11', 'source_file': 'test2.pdf', 'file_type': 'pdf'}, page_content='The EUROCALL Review, Volume 25, No. 2, September 2017 \\n \\n 28 \\nLittle, D. (2009). Language learner autonomy and the European Language Portfolio: \\nTwo L2 English examples. Language Teaching, 42, 222-233. \\nLittle, D. (1991).  Learner autonomy 1: Definitions, issues and problems . Dublin: \\nAuthentik. \\nLittlewood, W. (1996). Autonomy: An anatomy and a framework.  System, 24(4), 427-\\n435. \\nMiangah, T.M. & Nezarat, A. (2012). Mobile -assisted language \\nlearning. International Journal of Distributed and Parallel Systems, 3(1), 309-319. \\nNah, K.C., White, P. & Sussex, R. (2008). The potential of using a mobile phone to \\naccess the internet for learning EFL listening skills within a Korean \\ncontext. ReCALL, 20(3), 331-347. \\nOz, H. (2015). An investigation of preservice English teachers’ percep tions of mobile \\nassisted language learning. English Language Teaching, 8(2), 22-34. \\nPettit, J. & Kukulska -Hulme, A. (2007). Going with the grain: Mobile devices in \\npractice. Australasian Journal of Educational Technology, 23(1), 17-33. \\nReinders, H. (2011). Towards an operationalisation of autonomy. In A. Ahmed, G. Cane \\n& M. Hanzala.  Teaching English in multilingual contexts: Current challenges, future \\ndirections (pp. 37-52). Cambridge: Cambridge Scholars Publishing. \\nReinders, H. & White, C. (2016). 20 years  of autonomy and technology: How far have \\nwe come and where to next?  Language Learning & Technology , 20(2), 143 -154. \\nRetrieved from http://llt.msu.edu/issues/june2016/reinderswhite.pdf. \\nReinders, H. & Cho, M. (2011). Encouraging informal language learning with mobile \\ntechnology: Does it work? Journal of Second Language Teaching and Research, 1, 3-29. \\nStockwell, G. (2007). Vocabulary on  the move: Investigating an intelligent mobile \\nphone-based vocabulary tutor. Computer Assisted Language Learning, 20(4), 365-383. \\nTrifanova, A., Knapp, J., Ronchetti, M.  & Gamper, J. (2004). Mobile ELDIT: Challenges \\nin the transitions from an e -learning to an m-learning system. Trento, Italy: University \\nof Trento. Retrieved December  12, 2016, \\nfrom http://eprints.biblio.unitn.it/archive/00000532/01/paper4911.pdf. \\nZhang, H., Song, W. & Burston, J. (2011). Reexamining the effectiveness of vocabulary \\nlearning via mobile phones.  The Turkish Online Journal of Educational \\nTechnology, 10(3), 203-214. \\n  \\n[1] It should be noted that the reason for choosing this sample was for convenience \\nsince they were accessible to the researcher (Dörnyei, 2007, p. 98-99). \\n[2] It should be noted that in order to ward off potential misunderstandings and to allow \\nthe participants to freely elaborate upon their answers, the interviews were conducted \\nin Polish. \\n[3] Both here and throughout the remainder of the paper, the excerpts are translations \\nof the students’ responses by the present author.')]"
      ]
     },
     "execution_count": 89,
     "metadata": {},
     "output_type": "execute_result"
    }
   ],
   "source": [
    "all_pdf_documents"
   ]
  },
  {
   "cell_type": "code",
   "execution_count": 90,
   "id": "0713b534",
   "metadata": {},
   "outputs": [],
   "source": [
    "### Text splitting get into chunks\n",
    "\n",
    "def split_documents(documents,chunk_size=1000,chunk_overlap=200):\n",
    "    \"\"\"Split documents into smaller chunks for better RAG performance\"\"\"\n",
    "    text_splitter = RecursiveCharacterTextSplitter(\n",
    "        chunk_size=chunk_size,\n",
    "        chunk_overlap=chunk_overlap,\n",
    "        length_function=len,\n",
    "        separators=[\"\\n\\n\", \"\\n\", \" \", \"\"]\n",
    "    )\n",
    "    split_docs = text_splitter.split_documents(documents)\n",
    "    print(f\"Split {len(documents)} documents into {len(split_docs)} chunks\")\n",
    "    \n",
    "    # Show example of a chunk\n",
    "    if split_docs:\n",
    "        print(f\"\\nExample chunk:\")\n",
    "        print(f\"Content: {split_docs[0].page_content[:200]}...\")\n",
    "        print(f\"Metadata: {split_docs[0].metadata}\")\n",
    "    \n",
    "    return split_docs"
   ]
  },
  {
   "cell_type": "code",
   "execution_count": 91,
   "id": "52e32b15",
   "metadata": {},
   "outputs": [
    {
     "name": "stdout",
     "output_type": "stream",
     "text": [
      "Split 11 documents into 56 chunks\n",
      "\n",
      "Example chunk:\n",
      "Content: The EUROCALL Review, Volume 25, No. 2, September 2017 \n",
      " \n",
      " 18 \n",
      "Research paper \n",
      " \n",
      "A look at advanced learners’ use of mobile devices for \n",
      "English language study: Insights from interview data \n",
      "Mariusz Kr...\n",
      "Metadata: {'producer': 'Microsoft® Word 2016', 'creator': 'Microsoft® Word 2016', 'creationdate': '2018-03-05T09:43:57+01:00', 'author': 'agimeno', 'moddate': '2018-03-12T10:24:10-04:00', 'source': '..\\\\data\\\\pdf\\\\test2.pdf', 'total_pages': 11, 'page': 0, 'page_label': '1', 'source_file': 'test2.pdf', 'file_type': 'pdf'}\n"
     ]
    },
    {
     "data": {
      "text/plain": [
       "[Document(metadata={'producer': 'Microsoft® Word 2016', 'creator': 'Microsoft® Word 2016', 'creationdate': '2018-03-05T09:43:57+01:00', 'author': 'agimeno', 'moddate': '2018-03-12T10:24:10-04:00', 'source': '..\\\\data\\\\pdf\\\\test2.pdf', 'total_pages': 11, 'page': 0, 'page_label': '1', 'source_file': 'test2.pdf', 'file_type': 'pdf'}, page_content='The EUROCALL Review, Volume 25, No. 2, September 2017 \\n \\n 18 \\nResearch paper \\n \\nA look at advanced learners’ use of mobile devices for \\nEnglish language study: Insights from interview data \\nMariusz Kruk \\nUniversity of Zielona Gora, Poland \\n______________________________________________________________ \\nmkruk @ uz.zgora.pl \\n  \\nAbstract \\nThe paper discusses the results of a study which explored advanced learners of English \\nengagement with their mobile devices to develop learning experiences that meet their \\nneeds and goals as foreign language learners. The data were collected from 20 students \\nby means of a semi -structured interview. The gathered data were subjected to \\nqualitative and quantitative analysis. The results of the study demonstrated that , on the \\none hand , some subjects manifested heightened awareness relating to the \\nadvantageous role of mobile devices in their learning endeavors, their ability to reach'),\n",
       " Document(metadata={'producer': 'Microsoft® Word 2016', 'creator': 'Microsoft® Word 2016', 'creationdate': '2018-03-05T09:43:57+01:00', 'author': 'agimeno', 'moddate': '2018-03-12T10:24:10-04:00', 'source': '..\\\\data\\\\pdf\\\\test2.pdf', 'total_pages': 11, 'page': 0, 'page_label': '1', 'source_file': 'test2.pdf', 'file_type': 'pdf'}, page_content='one hand , some subjects manifested heightened awareness relating to the \\nadvantageous role of mobile devices in their learning endeavors, their ability to reach \\nfor suitable tools and retrieve necessary information so as to achieve their goals, meet \\ntheir needs and adjust their learning of English to their personal learning styles, and on \\nthe other, a rather intuitive and/or ad hoc use of their mobile devices in the classroom. \\nKeywords: Learner autonomy, mobile devices, advanced EFL learners, learning \\nEnglish. \\n  \\n1. Introduction \\nMobile devices, smartphones and tablet computers in particular, have generated a lot of \\ninterest among researchers in recent years (Byrne & Diem, 2014). This is b ecause the \\nopportunities these new technologies may offer (e.g. individualized learning, the variety \\nof mobile apps available, easy access to the internet) and/or the fact tha t they are \\nincreasingly more common among learners make them an important and pot entially'),\n",
       " Document(metadata={'producer': 'Microsoft® Word 2016', 'creator': 'Microsoft® Word 2016', 'creationdate': '2018-03-05T09:43:57+01:00', 'author': 'agimeno', 'moddate': '2018-03-12T10:24:10-04:00', 'source': '..\\\\data\\\\pdf\\\\test2.pdf', 'total_pages': 11, 'page': 0, 'page_label': '1', 'source_file': 'test2.pdf', 'file_type': 'pdf'}, page_content='of mobile apps available, easy access to the internet) and/or the fact tha t they are \\nincreasingly more common among learners make them an important and pot entially \\nuseful addition to formal and informal language learning. \\nAccording to Benson (2011), there has always been a connection between educational \\ntechnologies and learner autonomy to the extent that they have often been intended for \\nindependent practice. It should be noted, however, that this link and “future enquiry \\nand practice into technology -mediated learner autonomy will need to be increasingly \\naligned to the tools, settings, and activities that are of significance to language learners” \\n(Reinders & White, 2016, p. 151). Reinders and White (2016) further argue that  as long \\nas “the potential range of settings, tools, and experiences is now virtually limitless, \\nindividuals need to be increasingly adept at critical adaptive learning in order to benefit'),\n",
       " Document(metadata={'producer': 'Microsoft® Word 2016', 'creator': 'Microsoft® Word 2016', 'creationdate': '2018-03-05T09:43:57+01:00', 'author': 'agimeno', 'moddate': '2018-03-12T10:24:10-04:00', 'source': '..\\\\data\\\\pdf\\\\test2.pdf', 'total_pages': 11, 'page': 0, 'page_label': '1', 'source_file': 'test2.pdf', 'file_type': 'pdf'}, page_content=\"as “the potential range of settings, tools, and experiences is now virtually limitless, \\nindividuals need to be increasingly adept at critical adaptive learning in order to benefit \\nfrom and contribute effectively to those settings” (p. 151). Beyond doubt, contemporary \\nlanguage teachers should equip foreign/second language learners with appropriate \\nknowledge concerning the affordances of mobile devices for language study and they \\nshould prepare them for effective usage of such devices for this purpos e. It is also of \\nparamount importance, for both researchers and practitioners, to comprehend the link \\nbetween the modalities of the language learners' organization of their own learning \\nexperiences and environments and the role mobile technologies, in part icular \\nsmartphones and tablets, play in these contexts. \\nTaking into consideration the above -mentioned issues, the study reported in this article\"),\n",
       " Document(metadata={'producer': 'Microsoft® Word 2016', 'creator': 'Microsoft® Word 2016', 'creationdate': '2018-03-05T09:43:57+01:00', 'author': 'agimeno', 'moddate': '2018-03-12T10:24:10-04:00', 'source': '..\\\\data\\\\pdf\\\\test2.pdf', 'total_pages': 11, 'page': 0, 'page_label': '1', 'source_file': 'test2.pdf', 'file_type': 'pdf'}, page_content='smartphones and tablets, play in these contexts. \\nTaking into consideration the above -mentioned issues, the study reported in this article \\ninvestigated ways advanced English language students use their mobile devices (i.e. \\nsmartphones and tablet comp uters) for their language learning. The article commences \\nwith a short overview of relevant literature. Next, the design of the study is described,'),\n",
       " Document(metadata={'producer': 'Microsoft® Word 2016', 'creator': 'Microsoft® Word 2016', 'creationdate': '2018-03-05T09:43:57+01:00', 'author': 'agimeno', 'moddate': '2018-03-12T10:24:10-04:00', 'source': '..\\\\data\\\\pdf\\\\test2.pdf', 'total_pages': 11, 'page': 1, 'page_label': '2', 'source_file': 'test2.pdf', 'file_type': 'pdf'}, page_content='The EUROCALL Review, Volume 25, No. 2, September 2017 \\n \\n 19 \\nnamely a research question, description of participants, data collection tools and \\nanalysis. This is followe d by the presentation of the results of the study. The article \\ncloses with discussion and conclusions. \\n2. Literature review \\n2.1. Autonomy in foreign/second language learning \\nThe concept of autonomy in second/foreign language learning and teaching has been \\nthe focus of attention for many researchers and practitioners for more than three \\ndecades. According to Benson (2001), the notion of autonomy was introduced and \\npopularized in 1981 by Henri Holec in his seminal report for the Council of Europe \\nentitled Autonomy in Foreign Language Learning  in which the researcher defined \\nautonomy in the context of language learning as “the ability to take charge of one’s own \\nlearning” (Holec, 1981, p. 3). Holec’s idea of autonomy encompasses some components'),\n",
       " Document(metadata={'producer': 'Microsoft® Word 2016', 'creator': 'Microsoft® Word 2016', 'creationdate': '2018-03-05T09:43:57+01:00', 'author': 'agimeno', 'moddate': '2018-03-12T10:24:10-04:00', 'source': '..\\\\data\\\\pdf\\\\test2.pdf', 'total_pages': 11, 'page': 1, 'page_label': '2', 'source_file': 'test2.pdf', 'file_type': 'pdf'}, page_content='autonomy in the context of language learning as “the ability to take charge of one’s own \\nlearning” (Holec, 1981, p. 3). Holec’s idea of autonomy encompasses some components \\nand capacities o n the part of language learners (e.g. self -directed learning). For some \\nother authors autonomy also involves “a capacity – for detachment, critical reflection, \\ndecision-making, and independent action” (Little, 1991, p. 4) and “the capacity to take \\ncontrol of one’s own learning” (Benson, 2001, p. 46). As stated by Benson (2011, p. \\n16), “autonomy is multidimensional and takes many different forms according to the \\nperson, the setting, and multiple contextual and micro -contextual factors” and it is “a \\nmulti-faceted concept that consists of several layers” (Reinders, 2011, p. 48) whose \\nroots are based in political, societal and educational developments. In addition to this, \\nwork on autonomy emphasizes social dimensions of learner autonomy in view of the'),\n",
       " Document(metadata={'producer': 'Microsoft® Word 2016', 'creator': 'Microsoft® Word 2016', 'creationdate': '2018-03-05T09:43:57+01:00', 'author': 'agimeno', 'moddate': '2018-03-12T10:24:10-04:00', 'source': '..\\\\data\\\\pdf\\\\test2.pdf', 'total_pages': 11, 'page': 1, 'page_label': '2', 'source_file': 'test2.pdf', 'file_type': 'pdf'}, page_content='roots are based in political, societal and educational developments. In addition to this, \\nwork on autonomy emphasizes social dimensions of learner autonomy in view of the \\nfact that “autonomous learners always do things for themselves, but they may or may \\nnot do things on their own” (Little, 2009, p. 223) and that by means of social \\ninteractions language learners “develop a capacity to analyze, reflect upon and \\nsynthesize information to create new perspectives” (Lee, 2011, p. 88). It should also be \\nnoted that recent research shows that fostering autonomy is no longer predominantly a \\nmatter of individualizing learning through out -of-class initiatives since the dominance of \\nclassroom-based approaches (Benson, 2011). Finally, it has to be added that \\nresearchers, in general, seem to be in agreement with the following claims suggested \\nby Benson (2011): “(a) language learners naturally tend to take control of their'),\n",
       " Document(metadata={'producer': 'Microsoft® Word 2016', 'creator': 'Microsoft® Word 2016', 'creationdate': '2018-03-05T09:43:57+01:00', 'author': 'agimeno', 'moddate': '2018-03-12T10:24:10-04:00', 'source': '..\\\\data\\\\pdf\\\\test2.pdf', 'total_pages': 11, 'page': 1, 'page_label': '2', 'source_file': 'test2.pdf', 'file_type': 'pdf'}, page_content='researchers, in general, seem to be in agreement with the following claims suggested \\nby Benson (2011): “(a) language learners naturally tend to take control of their \\nlearning, (b) learners who  lack autonomy are capable of developing it, and (c) \\nautonomous language learning is more effective than non -autonomous language \\nlearning” (p. 16). \\nPerhaps in order to define the concept of autonomy in language learning it is necessary \\nto understand who au tonomous learners are. As Littlewood (1996) claims, an \\nautonomous learner is “one who has independent capacity to make and carry out \\nchoices which govern his or her actions” (p. 428). The researcher argues that this \\ncapacity depends on two major components  such as ability and willingness, and he \\nclaims that the attributes can also be further subdivided. Thus, ability depends on \\nhaving knowledge about the options from which one can choose and skills so as to'),\n",
       " Document(metadata={'producer': 'Microsoft® Word 2016', 'creator': 'Microsoft® Word 2016', 'creationdate': '2018-03-05T09:43:57+01:00', 'author': 'agimeno', 'moddate': '2018-03-12T10:24:10-04:00', 'source': '..\\\\data\\\\pdf\\\\test2.pdf', 'total_pages': 11, 'page': 1, 'page_label': '2', 'source_file': 'test2.pdf', 'file_type': 'pdf'}, page_content='claims that the attributes can also be further subdivided. Thus, ability depends on \\nhaving knowledge about the options from which one can choose and skills so as to \\nchoose the most suitable alternatives. When it com es to willingness, this depends on \\nhaving motivation and confidence in order to take responsibility for adequate choices. \\nMoreover, Littlewood (1996) argues that if an individual is to be successful in being \\nautonomous, all of these components have to be present all together. \\nAt the close of this section, a few words are in order on the notion of autonomous \\nlanguage learning. An interesting description of the concept in question is offered by \\nReinders (2011), who defines autonomous language learning as “an act of learning \\nwhereby motivated learners consciously make informed decisions about that learning” \\n(p. 48). According to the said researcher, it is not possible or needed in all acts of'),\n",
       " Document(metadata={'producer': 'Microsoft® Word 2016', 'creator': 'Microsoft® Word 2016', 'creationdate': '2018-03-05T09:43:57+01:00', 'author': 'agimeno', 'moddate': '2018-03-12T10:24:10-04:00', 'source': '..\\\\data\\\\pdf\\\\test2.pdf', 'total_pages': 11, 'page': 1, 'page_label': '2', 'source_file': 'test2.pdf', 'file_type': 'pdf'}, page_content='whereby motivated learners consciously make informed decisions about that learning” \\n(p. 48). According to the said researcher, it is not possible or needed in all acts of \\nlearning to be able or ready to intentionally make decisions since di fferent learning \\nsituations present different demands. Reinders (2011) further argues that “autonomy is \\nnot an either-or concept, but has to be seen as a continuum” (p. 48). This is because a \\nlearner can display more or less autonomy in different learning circumstances. \\nAutonomy, in Reinders’ terms changes over time between skills and within skills and \\nthus it is difficult to achieve and is not invariably permanent (Reinders, 2011).'),\n",
       " Document(metadata={'producer': 'Microsoft® Word 2016', 'creator': 'Microsoft® Word 2016', 'creationdate': '2018-03-05T09:43:57+01:00', 'author': 'agimeno', 'moddate': '2018-03-12T10:24:10-04:00', 'source': '..\\\\data\\\\pdf\\\\test2.pdf', 'total_pages': 11, 'page': 2, 'page_label': '3', 'source_file': 'test2.pdf', 'file_type': 'pdf'}, page_content='The EUROCALL Review, Volume 25, No. 2, September 2017 \\n \\n 20 \\n2.2. Autonomy and new technologies \\nAs stated in the previous section, the concept of autonomy has been one of the most \\nresearched areas in the field of second/foreign language learning and teaching over the \\nlast few decades. It should be noted, however, that the field of learner autonomy \\nstarted to be influenced by technology in the mid -1990s as a result of the growing \\ninfluence of the internet on almost every sphere of our life (including second/foreign \\nlanguage education) and the opportunities for online collaboration and communication \\n(Reinders & White, 2016). As stated by Benson and Chik (2010), the latest generations \\nof new technologies, particularly those encompassing the internet, user-generated Web \\ncontent and mobility , seem to be having a bearing on the way autonomous language \\nlearning develops. Perhaps, one of the most important benefits of implementing new'),\n",
       " Document(metadata={'producer': 'Microsoft® Word 2016', 'creator': 'Microsoft® Word 2016', 'creationdate': '2018-03-05T09:43:57+01:00', 'author': 'agimeno', 'moddate': '2018-03-12T10:24:10-04:00', 'source': '..\\\\data\\\\pdf\\\\test2.pdf', 'total_pages': 11, 'page': 2, 'page_label': '3', 'source_file': 'test2.pdf', 'file_type': 'pdf'}, page_content='content and mobility , seem to be having a bearing on the way autonomous language \\nlearning develops. Perhaps, one of the most important benefits of implementing new \\ntechnologies into language learning is the fact that they provide occasions for language \\nlearners who do not have direct access to the target language. This is because the use \\nof new technologies, including mobile technology, allow them to “bypass classrooms and \\ngo directly to target language texts and users through the internet and social media” \\n(Benson, 2011, p. 17). \\nWhen it comes to the use of mobile technology, and, in particul ar, smartphones and \\ntablet computers, for learning a foreign or second language, they can assist language \\nlearners with their learning endeavors by granting access to numerous language \\nresources whenever and wherever such learners need them and/or they hap pen to be \\n(Jones, 2015). In Jones’s opinion, such language involvement might comprise, for'),\n",
       " Document(metadata={'producer': 'Microsoft® Word 2016', 'creator': 'Microsoft® Word 2016', 'creationdate': '2018-03-05T09:43:57+01:00', 'author': 'agimeno', 'moddate': '2018-03-12T10:24:10-04:00', 'source': '..\\\\data\\\\pdf\\\\test2.pdf', 'total_pages': 11, 'page': 2, 'page_label': '3', 'source_file': 'test2.pdf', 'file_type': 'pdf'}, page_content='resources whenever and wherever such learners need them and/or they hap pen to be \\n(Jones, 2015). In Jones’s opinion, such language involvement might comprise, for \\ninstance, the use of chunks of spare time for language practice, search ing for target \\nlanguage vocabulary in relevant contexts or interactions on social media (Jones , 2015). \\nFurthermore, by having a mobile device a language learner has the opportunity to take \\ncontrol of his or her learning, direct it and engage in language activities that meet his or \\nher individual needs and goals (Kukulska -Hulme, Traxler & Pettit, 20 07; Pettit & \\nKukulska-Hulme 2007). \\nGiven the importance attached to new technologies, and, in particular the potential role \\nof mobile devices in autonomous language learning, the terms  mobile \\nlearning and mobile devices (MobDs) need first to be explained. As for mobile learning, \\nno single agreed -upon definition of the term exists in the literature (Oz, 2015). This is'),\n",
       " Document(metadata={'producer': 'Microsoft® Word 2016', 'creator': 'Microsoft® Word 2016', 'creationdate': '2018-03-05T09:43:57+01:00', 'author': 'agimeno', 'moddate': '2018-03-12T10:24:10-04:00', 'source': '..\\\\data\\\\pdf\\\\test2.pdf', 'total_pages': 11, 'page': 2, 'page_label': '3', 'source_file': 'test2.pdf', 'file_type': 'pdf'}, page_content='learning and mobile devices (MobDs) need first to be explained. As for mobile learning, \\nno single agreed -upon definition of the term exists in the literature (Oz, 2015). This is \\nbecause some researchers define mobile learning as an extension of e -learning built \\nupon mobile devices whereas some other researchers understand  it as learning that \\nhappens anywhere and anytime (cf. Oz, 2015). As far a s mobile devices are concerned, \\nthey can be defined as “any device that is small, autonomous and unobtrusive enough \\nto accompany us in every moment and can be used for educational purposes” \\n(Trifanova Knapp, Ronchetti & Gamper, 2004, p. 3) or as “hand held electronic devices \\nthat can be comfortably carried around in a pocket or bag, including MP3 players, digital \\nrecorders, e -readers, tablets, and smartphones” (Kukulska -Hulme, Norris & Donohue, \\n2015, p. 39). \\nA lot of studies concerning the use of mobile tech nology and mobile devices in language'),\n",
       " Document(metadata={'producer': 'Microsoft® Word 2016', 'creator': 'Microsoft® Word 2016', 'creationdate': '2018-03-05T09:43:57+01:00', 'author': 'agimeno', 'moddate': '2018-03-12T10:24:10-04:00', 'source': '..\\\\data\\\\pdf\\\\test2.pdf', 'total_pages': 11, 'page': 2, 'page_label': '3', 'source_file': 'test2.pdf', 'file_type': 'pdf'}, page_content='recorders, e -readers, tablets, and smartphones” (Kukulska -Hulme, Norris & Donohue, \\n2015, p. 39). \\nA lot of studies concerning the use of mobile tech nology and mobile devices in language \\nlearning have been published. The f indings of these studies concentrated on, for \\nexample, language learners’ views on the use of mobile devices in language instruction \\n(e.g. Oz, 2015), students’ attitudes towards using  mobile phones as instructional tools \\nfor foreign language learning (e.g. Cakir, 2015), profiling mobile language learners (e.g. \\nByrne & Diem, 2014), their effect on learning a foreign/second language (e.g. Nah, \\nWhite & Sussex, 2008; Cavus & Ibrahim, 2009;  Zhang, Song & Burston, 2011), \\ndistance language learning (e.g. Demouy, Jones, Kan, Kukulska -Hulme & Eardley, \\n2016), informal language learning practices (Reinders & Cho, 2011; Jones, 2015), \\nlearners’ use of mobile devices for learning a foreign language ( Stockwell, 2007;'),\n",
       " Document(metadata={'producer': 'Microsoft® Word 2016', 'creator': 'Microsoft® Word 2016', 'creationdate': '2018-03-05T09:43:57+01:00', 'author': 'agimeno', 'moddate': '2018-03-12T10:24:10-04:00', 'source': '..\\\\data\\\\pdf\\\\test2.pdf', 'total_pages': 11, 'page': 2, 'page_label': '3', 'source_file': 'test2.pdf', 'file_type': 'pdf'}, page_content='2016), informal language learning practices (Reinders & Cho, 2011; Jones, 2015), \\nlearners’ use of mobile devices for learning a foreign language ( Stockwell, 2007; \\nDashtestani, 2015) and autonomy in language learning (e.g. Díaz -Vera, 2012; Djoub, \\n2015). In addition to this, researchers investigated a number of applications of mobile \\ndevices and presented both benefits and drawbacks of the usage of mo bile technologies \\n(e.g. Miangah & Nezarat, 2012), discussed the use of mobile devices in supporting \\nsocial contacts and collaborative learning (e.g. Kukulska -Hulme & Shield, 2008) and \\noffered guidelines related to the implementation of mobile learning into  second/foreign \\nlanguage instruction (e.g. Kukulska-Hulme et al., 2015).'),\n",
       " Document(metadata={'producer': 'Microsoft® Word 2016', 'creator': 'Microsoft® Word 2016', 'creationdate': '2018-03-05T09:43:57+01:00', 'author': 'agimeno', 'moddate': '2018-03-12T10:24:10-04:00', 'source': '..\\\\data\\\\pdf\\\\test2.pdf', 'total_pages': 11, 'page': 3, 'page_label': '4', 'source_file': 'test2.pdf', 'file_type': 'pdf'}, page_content='The EUROCALL Review, Volume 25, No. 2, September 2017 \\n \\n 21 \\n3. Method \\n3.1. Research question \\nOne of the questions related to future research and practice in technology -mediated \\nlearner autonomy addressed by Reinders and White in their recent  critical overview of \\nthe relationship between technology and autonomy in the journal  Language Learning & \\nTechnology (LLT)  concerned language learners engagement with technology -mediated \\nenvironments in order to develop learning experiences that reach thei r aims and meet \\ntheir needs as language learners (Reinders & White, 2016). Taking this important \\nmatter into consideration , and in view of the fact that mobile technology, including \\nmobile devices such as smartphones and tablet computers , are ubiquitous and \\nsubstantial constituents of almost every language learner’s everyday life, the \\nabovementioned question was modified and posed in this study in the following way:'),\n",
       " Document(metadata={'producer': 'Microsoft® Word 2016', 'creator': 'Microsoft® Word 2016', 'creationdate': '2018-03-05T09:43:57+01:00', 'author': 'agimeno', 'moddate': '2018-03-12T10:24:10-04:00', 'source': '..\\\\data\\\\pdf\\\\test2.pdf', 'total_pages': 11, 'page': 3, 'page_label': '4', 'source_file': 'test2.pdf', 'file_type': 'pdf'}, page_content='substantial constituents of almost every language learner’s everyday life, the \\nabovementioned question was modified and posed in this study in the following way: \\nDo students engage with their mobile devices to develop learning experienc es \\n(e.g. the use of mobile devices for formal and/or informal English language \\nstudy) that meet their needs and goals (e.g. the development of the target \\nlanguage skills and sub-skills) as English language learners? If yes, why and how \\ndo they do this? \\n3.2. Participants \\nThe participants were 20 Polish university students of English philology, nine of whom \\n(seven females and two males) were in the second year of their BA programme, six \\n(five females and one male) in the third year and five (all females) in the second year of \\ntheir MA program (1). The study participants were on average 22.22 years old (20.66 - \\nyear 2, BA; 21.82 - year 3, BA and 24.50 - year 2, MA). The subj ects reported having'),\n",
       " Document(metadata={'producer': 'Microsoft® Word 2016', 'creator': 'Microsoft® Word 2016', 'creationdate': '2018-03-05T09:43:57+01:00', 'author': 'agimeno', 'moddate': '2018-03-12T10:24:10-04:00', 'source': '..\\\\data\\\\pdf\\\\test2.pdf', 'total_pages': 11, 'page': 3, 'page_label': '4', 'source_file': 'test2.pdf', 'file_type': 'pdf'}, page_content='their MA program (1). The study participants were on average 22.22 years old (20.66 - \\nyear 2, BA; 21.82 - year 3, BA and 24.50 - year 2, MA). The subj ects reported having \\nlearned English for an average of 11.38 years (10.49 - year 2, BA; 11.27 - year 3, BA \\nand 12.21 - year 2, MA). The proficiency level represented by the participants of the \\nstudy could be described as somewhere between B1 and B2 (second  year BA students), \\nB2 and C1 (third year BA students) and C1 and C2 (second year MA students), as \\nspecified in the levels laid out in the  Common European Framework of Reference for \\nLanguages. \\n3.3. Data collection and analysis \\nThe data were gathered by means of a semi-structured interview. This interview format \\nwas chosen intentionally since it uses a set of prepared in advance guiding questions \\nand prompts and interviewees are encouraged to elaborate on the problems raised \\nduring it (Dörnyei, 2007). As Dörnyei (2007) explains, in this type of the interview “the'),\n",
       " Document(metadata={'producer': 'Microsoft® Word 2016', 'creator': 'Microsoft® Word 2016', 'creationdate': '2018-03-05T09:43:57+01:00', 'author': 'agimeno', 'moddate': '2018-03-12T10:24:10-04:00', 'source': '..\\\\data\\\\pdf\\\\test2.pdf', 'total_pages': 11, 'page': 3, 'page_label': '4', 'source_file': 'test2.pdf', 'file_type': 'pdf'}, page_content='and prompts and interviewees are encouraged to elaborate on the problems raised \\nduring it (Dörnyei, 2007). As Dörnyei (2007) explains, in this type of the interview “the \\ninterviewer provides guidelines and direction (hence the ‘ -structured’ part in the name), \\nbut is also keen to follow up interesting developments and to let the interviewee \\nelaborate on certain issues (hence the ‘semi-’ part)” (p. 136). \\nDuring the interview, the present researcher attempted to encourage the subjects to \\ndescribe their learning experiences concerning the use of mobile devices for English \\nstudy. This was a form of introspection where t he students were prompted to examine \\ntheir behaviors and provide a first person narrative of such experiences. All the study \\nparticipants were informed that the interview concerned the use of mobile devices for \\nEnglish study and they were asked for permiss ion to be digitally recorded. In order to \\nobtain relevant data the following questions were asked (2):'),\n",
       " Document(metadata={'producer': 'Microsoft® Word 2016', 'creator': 'Microsoft® Word 2016', 'creationdate': '2018-03-05T09:43:57+01:00', 'author': 'agimeno', 'moddate': '2018-03-12T10:24:10-04:00', 'source': '..\\\\data\\\\pdf\\\\test2.pdf', 'total_pages': 11, 'page': 3, 'page_label': '4', 'source_file': 'test2.pdf', 'file_type': 'pdf'}, page_content='English study and they were asked for permiss ion to be digitally recorded. In order to \\nobtain relevant data the following questions were asked (2): \\n\\uf0b7 Do you use your mobile devices (e.g. smartphones, tablets, MP3 pl ayers, \\nPDAs) for learning English? \\n\\uf0b7 Why do you use your mobile device(s) for learning English? \\n\\uf0b7 When did you start using your mobile device(s) for learning English? Has the \\nuse of your mobile device(s) increased or decreased since that time? \\n\\uf0b7 Do you use your mobile device(s) during classes? \\n\\uf0b7 Do you use your mobile device(s) more frequently in - or out-of-class English \\nlearning? \\n\\uf0b7 What mobile apps have you been using most frequently and/or recently? \\n\\uf0b7 Do you use your mobile device(s) more often in relation to formal or informal \\nEnglish language study?'),\n",
       " Document(metadata={'producer': 'Microsoft® Word 2016', 'creator': 'Microsoft® Word 2016', 'creationdate': '2018-03-05T09:43:57+01:00', 'author': 'agimeno', 'moddate': '2018-03-12T10:24:10-04:00', 'source': '..\\\\data\\\\pdf\\\\test2.pdf', 'total_pages': 11, 'page': 4, 'page_label': '5', 'source_file': 'test2.pdf', 'file_type': 'pdf'}, page_content='The EUROCALL Review, Volume 25, No. 2, September 2017 \\n \\n 22 \\n\\uf0b7 Do you organize regular formal or informal mobile English language learning \\nsessions? \\n\\uf0b7 What do you learn most frequently by means of your mobile device(s)? Why \\nthis? \\n\\uf0b7 Do you feel that thanks to the use of your mobile devic e(s) you devote more \\ntime for learning the English language? \\n\\uf0b7 As far as learning English through your mobile device(s) is concerned, do you \\nconsider yourself as an experienced user of such device(s)? \\nThe gathered data were subjected to qualitative and quant itative analysis. The analysis \\nstarted with partial transcription of the important parts of the data (Dörnyei, 2007) on a \\ncomputer word processor program  Microsoft Word 2016 . Then the transcribed parts of \\nthe data were read several times in order to look f or common themes and frequently \\noccurring information. The recurring ideas were coded and recoded, revised and'),\n",
       " Document(metadata={'producer': 'Microsoft® Word 2016', 'creator': 'Microsoft® Word 2016', 'creationdate': '2018-03-05T09:43:57+01:00', 'author': 'agimeno', 'moddate': '2018-03-12T10:24:10-04:00', 'source': '..\\\\data\\\\pdf\\\\test2.pdf', 'total_pages': 11, 'page': 4, 'page_label': '5', 'source_file': 'test2.pdf', 'file_type': 'pdf'}, page_content='the data were read several times in order to look f or common themes and frequently \\noccurring information. The recurring ideas were coded and recoded, revised and \\nupdated. The researcher used the highlighting function of the word processor program \\nwhich allows the user to highlight the text on the transcrip t with different colors and \\ncomments to record any observations and thematic categories recognized in the data. \\nThe emerged categories were reviewed, compared, modified and either merged or \\nabandoned. It should also be noted that the obtained data were ana lyzed quantitatively. \\nThis type of analysis involved counting the number of the interviewees’ responses and \\ncalculating percentages. \\n4. Findings \\nA thorough analysis of the data yielded the following thematic categories:  usage of \\nmobile devices , reasons for  using mobile devices , resources and tools , mobile \\nencounters, language practiced and study performance. \\n4.1. Usage of mobile devices'),\n",
       " Document(metadata={'producer': 'Microsoft® Word 2016', 'creator': 'Microsoft® Word 2016', 'creationdate': '2018-03-05T09:43:57+01:00', 'author': 'agimeno', 'moddate': '2018-03-12T10:24:10-04:00', 'source': '..\\\\data\\\\pdf\\\\test2.pdf', 'total_pages': 11, 'page': 4, 'page_label': '5', 'source_file': 'test2.pdf', 'file_type': 'pdf'}, page_content='mobile devices , reasons for  using mobile devices , resources and tools , mobile \\nencounters, language practiced and study performance. \\n4.1. Usage of mobile devices \\nTable 1 shows the study participants’ mobile devices (MobDs) usage descriptions. The \\ntable demonstrates that smartphones w ere the most often used mobile devices by the \\nstudents. In addition, the numerical information in the table indicates that the \\nparticipants, on average, had been using them for English language study for about \\n3.80 years (minimum 2, maximum 6 years). 9 (45 %) and 11 (55%) of the subjects \\nstarted using their mobile devices at senior high school and university, respectively. It \\nshould also be added that, with the exception of one student (i.e. S9), all the other \\nparticipants claimed to use their mobile devices  in order to learn English much more \\nfrequently with time. Finally, more than half of the students (55%) regarded themselves'),\n",
       " Document(metadata={'producer': 'Microsoft® Word 2016', 'creator': 'Microsoft® Word 2016', 'creationdate': '2018-03-05T09:43:57+01:00', 'author': 'agimeno', 'moddate': '2018-03-12T10:24:10-04:00', 'source': '..\\\\data\\\\pdf\\\\test2.pdf', 'total_pages': 11, 'page': 4, 'page_label': '5', 'source_file': 'test2.pdf', 'file_type': 'pdf'}, page_content='participants claimed to use their mobile devices  in order to learn English much more \\nfrequently with time. Finally, more than half of the students (55%) regarded themselves \\nas experienced or fairly experienced users of their MobDs for English language learning; \\nhowever, 45% claimed not to be very skilful in this area. \\nTable 1. The students’ mobile devices usage descriptions. \\nYear/ \\nLevel of \\nstudy \\nStudent Sex Device used \\nUse of MobDs \\nfor language \\nstudy (approx.) \\nSelf-assessed \\nexperience \\n2nd year \\nB.A. \\nS1 female smartphone and tablet 2 years not very experienced \\nS2 female smartphone 5 years experienced \\nS3 female smartphone 5 years fairly experienced \\nS4 female smartphone, rarely tablet 4 years fairly experienced \\nS5 female smartphone 3 years not very experienced \\nS6 male smartphone 2 years experienced \\nS7 female smartphone and tablet 5 years fairly experienced'),\n",
       " Document(metadata={'producer': 'Microsoft® Word 2016', 'creator': 'Microsoft® Word 2016', 'creationdate': '2018-03-05T09:43:57+01:00', 'author': 'agimeno', 'moddate': '2018-03-12T10:24:10-04:00', 'source': '..\\\\data\\\\pdf\\\\test2.pdf', 'total_pages': 11, 'page': 5, 'page_label': '6', 'source_file': 'test2.pdf', 'file_type': 'pdf'}, page_content='The EUROCALL Review, Volume 25, No. 2, September 2017 \\n \\n 23 \\nS8 female smartphone 2 years fairly experienced \\nS9 male smartphone 4 years not very experienced \\n3rd year \\nB.A. \\nS10 female smartphone 5 years fairly experienced \\nS11 female tablet and cell phone 2 years fairly experienced \\nS12 female smartphone 2 years not very experienced \\nS13 female smartphone 3 years not very experienced \\nS14 male smartphone and tablet 3 years experienced \\nS15 female smartphone and tablet 5 years fairly experienced \\n2nd year \\nM.A. \\nS16 female smartphone 3 years not very experienced \\nS17 female smartphone and tablet 6 years fairly experienced \\nS18 female smartphone 5 years not very experienced \\nS19 female smartphone and tablet 5 years not very experienced \\nS20 female smartphone and tablet 5 years fairly experienced \\n \\n4.2. Reasons for using mobile devices \\nThe study participants decided on the use of their MobDs in order to learn English for'),\n",
       " Document(metadata={'producer': 'Microsoft® Word 2016', 'creator': 'Microsoft® Word 2016', 'creationdate': '2018-03-05T09:43:57+01:00', 'author': 'agimeno', 'moddate': '2018-03-12T10:24:10-04:00', 'source': '..\\\\data\\\\pdf\\\\test2.pdf', 'total_pages': 11, 'page': 5, 'page_label': '6', 'source_file': 'test2.pdf', 'file_type': 'pdf'}, page_content='S20 female smartphone and tablet 5 years fairly experienced \\n \\n4.2. Reasons for using mobile devices \\nThe study participants decided on the use of their MobDs in order to learn English for \\nthe reason that they regarded them as convenient, fast and always ready to use. In \\naddition, some students pointed to the fact that the use of MobDs allowed them to have  \\nquick access to the internet and organize their own study materials and/or resources. \\nIllustrative examples of such opinions are provided below (3): \\nS10: It’s very comfortable. I can reach for my dictionary any time I want and I \\ndon’t have to carry thick books (...) The main aspect is convenience. \\nS5: It’s because I can find needed information ... it’s convenient because I \\nalways carry my smartphone and I have access  to the internet all the time (...) \\nAt home I also use my smartphone and I don’t mind it has a small screen. \\nS14: My tablet lets me organize things and keep my documents in one place.'),\n",
       " Document(metadata={'producer': 'Microsoft® Word 2016', 'creator': 'Microsoft® Word 2016', 'creationdate': '2018-03-05T09:43:57+01:00', 'author': 'agimeno', 'moddate': '2018-03-12T10:24:10-04:00', 'source': '..\\\\data\\\\pdf\\\\test2.pdf', 'total_pages': 11, 'page': 5, 'page_label': '6', 'source_file': 'test2.pdf', 'file_type': 'pdf'}, page_content='At home I also use my smartphone and I don’t mind it has a small screen. \\nS14: My tablet lets me organize things and keep my documents in one place. \\nThis is because studying English means having countless study materials (...) I \\ncan store them there (...) this also gives me easier access to them (...) In \\naddition, my smartphone can successfully replace a traditional paper dictionary \\nand I don’t have to waste time in thumbing through a lot of pages to find words \\nI’m looking for. \\n4.3. Resources and tools \\nThe analysis of the data revealed that the students made use of both online resources \\nand mobile apps. The most frequently used language tools were online dictionaries \\n(e.g. diki, ColorDict Dictionary ) and a variety of mobile  apps, such as  Google \\nTranslate, Duolingo and Fiszkoteka. The students usually accessed these tools in order \\nto check, revise and learn the target language vocabulary. Two students also reported'),\n",
       " Document(metadata={'producer': 'Microsoft® Word 2016', 'creator': 'Microsoft® Word 2016', 'creationdate': '2018-03-05T09:43:57+01:00', 'author': 'agimeno', 'moddate': '2018-03-12T10:24:10-04:00', 'source': '..\\\\data\\\\pdf\\\\test2.pdf', 'total_pages': 11, 'page': 5, 'page_label': '6', 'source_file': 'test2.pdf', 'file_type': 'pdf'}, page_content='Translate, Duolingo and Fiszkoteka. The students usually accessed these tools in order \\nto check, revise and learn the target language vocabulary. Two students also reported \\nusing Voscreen and WhatsApp, i.e. mobile apps for watching vi deo and communicating \\nwith people, respectively. It should also be noted that the interviewees pointed out \\nvarious online resources they used with the purpose of practicing reading and listening \\nskills (e.g.  TED, online newspapers,  YouTube), vocabulary (e. g. 6 Minute'),\n",
       " Document(metadata={'producer': 'Microsoft® Word 2016', 'creator': 'Microsoft® Word 2016', 'creationdate': '2018-03-05T09:43:57+01:00', 'author': 'agimeno', 'moddate': '2018-03-12T10:24:10-04:00', 'source': '..\\\\data\\\\pdf\\\\test2.pdf', 'total_pages': 11, 'page': 6, 'page_label': '7', 'source_file': 'test2.pdf', 'file_type': 'pdf'}, page_content='The EUROCALL Review, Volume 25, No. 2, September 2017 \\n \\n 24 \\nEnglish, PONS, Google Translate ) and having access to language materials \\n(e.g. Academica). Finally, some students used their MobDs in order to read language \\nmaterials downloaded from the internet (e.g. PDF files). The following responses \\nillustrate some of these issues: \\nS5: I use apps for “index cards”, dictionaries and a variety of apps for \\ndeveloping English vocabulary. \\nS10: I have some online friends and I talk with them in English (Do you do this \\nby means of instant messaging applications?) Yes, I use WhatsApp Messenger. \\nS15: I often read scanned book pages and pdf materials (…) I access English \\nvocabulary by means of online dictionaries. \\nS20: Fiszkoteka. I frequently use this app (...) I also listen to podcasts and I \\nhave the app called Six minutes English in order to practice listening (...) Also \\nbecause vocabulary is used in a variety of contexts. \\n4.4. Mobile encounters'),\n",
       " Document(metadata={'producer': 'Microsoft® Word 2016', 'creator': 'Microsoft® Word 2016', 'creationdate': '2018-03-05T09:43:57+01:00', 'author': 'agimeno', 'moddate': '2018-03-12T10:24:10-04:00', 'source': '..\\\\data\\\\pdf\\\\test2.pdf', 'total_pages': 11, 'page': 6, 'page_label': '7', 'source_file': 'test2.pdf', 'file_type': 'pdf'}, page_content='have the app called Six minutes English in order to practice listening (...) Also \\nbecause vocabulary is used in a variety of contexts. \\n4.4. Mobile encounters \\nThirteen (65%) interviewees claimed to use their MobDs most frequently in their leisure \\ntime, six (30%) in the classroom a nd one student said he had used his smartphone \\nequally frequently in the classroom and out -of-class English study. As for the students \\nwho used their smartphones or tablet computers in their leisure time, some of them did \\nit with the aim of reading English  texts, listening to audio resources, checking and \\nlearning new vocabulary, preparing multimedia presentations and playing language \\ngames. This is not to say, of course, that this group of learners did not use their MobDs \\nat all during classes; however, th e use of MobDs in this respect was only limited to \\nchecking target language vocabulary (e.g.  S1: I use my smartphone, for example, to'),\n",
       " Document(metadata={'producer': 'Microsoft® Word 2016', 'creator': 'Microsoft® Word 2016', 'creationdate': '2018-03-05T09:43:57+01:00', 'author': 'agimeno', 'moddate': '2018-03-12T10:24:10-04:00', 'source': '..\\\\data\\\\pdf\\\\test2.pdf', 'total_pages': 11, 'page': 6, 'page_label': '7', 'source_file': 'test2.pdf', 'file_type': 'pdf'}, page_content='at all during classes; however, th e use of MobDs in this respect was only limited to \\nchecking target language vocabulary (e.g.  S1: I use my smartphone, for example, to \\ncheck something I don’t understand (...) I installed a dictionary and I use it to find \\nwords). When it comes to the subjects who claimed to use their MobDs  most frequently \\nin the classroom, they used them to check unfamiliar vocabulary and/or find words they \\nneeded during various language activities. It is also important to note that these \\nstudents were not very willing to u se their MobDs at home in view of the fact that they \\nfavored their home computers. For example: \\nS7: I use them outside of University in order to learn and practice English \\nvocabulary and to prepare multimedia presentations. \\nS13: In my free time I learn Eng lish words and phrases, listen to English \\nrecordings and I read various texts in English. \\nS19: Yes, I use my smartphone and tablet for out -of-class learning but I also'),\n",
       " Document(metadata={'producer': 'Microsoft® Word 2016', 'creator': 'Microsoft® Word 2016', 'creationdate': '2018-03-05T09:43:57+01:00', 'author': 'agimeno', 'moddate': '2018-03-12T10:24:10-04:00', 'source': '..\\\\data\\\\pdf\\\\test2.pdf', 'total_pages': 11, 'page': 6, 'page_label': '7', 'source_file': 'test2.pdf', 'file_type': 'pdf'}, page_content='recordings and I read various texts in English. \\nS19: Yes, I use my smartphone and tablet for out -of-class learning but I also \\nuse them during classes mostly to check words and collocations. \\nS16: I think I do this d uring practical English language classes more regularly in \\nthe classroom than outside of it (...) In the classroom I check English words in \\ndigital dictionaries (...) I do this to check words, spelling, or to recall some words \\n(...) or I use my smartphone to look for synonyms (...). \\nThe analysis of the gathered data also demonstrated that the majority of the \\ninterviewees (13 or 65%) were in favor of using their smartphones and/or tablet \\ncomputers for informal English learning (i.e. learning the target langu age for pleasure) \\nand 7 (35%) students associated the use of their MobDs with formal learning (i.e. \\nrelated to their studies). It should be noted, however, that only two interviewees'),\n",
       " Document(metadata={'producer': 'Microsoft® Word 2016', 'creator': 'Microsoft® Word 2016', 'creationdate': '2018-03-05T09:43:57+01:00', 'author': 'agimeno', 'moddate': '2018-03-12T10:24:10-04:00', 'source': '..\\\\data\\\\pdf\\\\test2.pdf', 'total_pages': 11, 'page': 6, 'page_label': '7', 'source_file': 'test2.pdf', 'file_type': 'pdf'}, page_content='and 7 (35%) students associated the use of their MobDs with formal learning (i.e. \\nrelated to their studies). It should be noted, however, that only two interviewees \\nclaimed to hold and somewhat organize regular mobile English language sessions: \\nS10: I think this is what I have talked about earlier, I mean these chats with my \\nfriends. Perhaps we don’t chat very regularly ... we chat three times a week and \\nthat’s it but, at the same time, it’s not sporadic because we arrange it and it \\ntakes place pretty regularly. \\nS16: I often watch videos on YouTube and I do this the most often through my \\nsmartphone. \\nFinally, it has to be noted that the use of mobile devices was not explicitly advised or \\nsuggested by the interviewees’ teachers during their practical English language classes \\nor any other classes at the university. This is not to say, of course, that the y never'),\n",
       " Document(metadata={'producer': 'Microsoft® Word 2016', 'creator': 'Microsoft® Word 2016', 'creationdate': '2018-03-05T09:43:57+01:00', 'author': 'agimeno', 'moddate': '2018-03-12T10:24:10-04:00', 'source': '..\\\\data\\\\pdf\\\\test2.pdf', 'total_pages': 11, 'page': 7, 'page_label': '8', 'source_file': 'test2.pdf', 'file_type': 'pdf'}, page_content='The EUROCALL Review, Volume 25, No. 2, September 2017 \\n \\n 25 \\nreferred their students to electronic or online resources; however, they did not ask \\nstudents to use them in classes, they did not recommend any mobile apps or design \\nlanguage tasks which required  using such devices in order to solve them. \\n4.5. Language practiced \\nWhen asked to indicate the most frequently practiced language skills and subsystems by \\nmeans of mobile devices, all the interviewees indicated the target language vocabulary. \\nIn addition to this, some referred to pronunciation and only a f ew students mentioned \\ngrammar and practicing reading, listening and speaking skills. As far as practicing \\nEnglish vocabulary is concerned, the subjects chose to practice it through their \\nsmartphones and/or tables because they regarded this language subsyst em as the most \\nimportant to learn, they praised their MobDs for providing them with quick and easy'),\n",
       " Document(metadata={'producer': 'Microsoft® Word 2016', 'creator': 'Microsoft® Word 2016', 'creationdate': '2018-03-05T09:43:57+01:00', 'author': 'agimeno', 'moddate': '2018-03-12T10:24:10-04:00', 'source': '..\\\\data\\\\pdf\\\\test2.pdf', 'total_pages': 11, 'page': 7, 'page_label': '8', 'source_file': 'test2.pdf', 'file_type': 'pdf'}, page_content='smartphones and/or tables because they regarded this language subsyst em as the most \\nimportant to learn, they praised their MobDs for providing them with quick and easy \\naccess to needed words and see the way they were used in given sentences. As was \\nstressed by many of the interviewees, learning English vocabulary by means o f mobile \\ndevices also allowed them to check correct pronunciation of words (i.e. they listened to \\nit or paid attention to phonetic transcription of words). The following excerpts exemplify \\nthe most typical usage of MobDs by the study participants: \\nS3: (…) as for vocabulary I guess it’s much faster to search for words and know \\nhow to use them in sentences. \\nS6: It’s easy and it’s very easy to look for words when I need them. \\nS12: (…) I need vocabulary not only to communicate in English (…) when I look \\nfor wor ds I look at contexts words are used (...) I always pay attention to'),\n",
       " Document(metadata={'producer': 'Microsoft® Word 2016', 'creator': 'Microsoft® Word 2016', 'creationdate': '2018-03-05T09:43:57+01:00', 'author': 'agimeno', 'moddate': '2018-03-12T10:24:10-04:00', 'source': '..\\\\data\\\\pdf\\\\test2.pdf', 'total_pages': 11, 'page': 7, 'page_label': '8', 'source_file': 'test2.pdf', 'file_type': 'pdf'}, page_content='S12: (…) I need vocabulary not only to communicate in English (…) when I look \\nfor wor ds I look at contexts words are used (...) I always pay attention to \\nspelling and also listen to pronunciation (How about phonetic transcription of \\nwords?) Phonetic transcription of words ... yes but not often unless audio is poor \\nquality or it seems to so und somehow differently ... then I make sure how a \\nword is pronounced and I read its phonetic transcription given there. \\nAs mentioned earlier, only a few students resorted to their MobDs in order to practice \\nother language areas such as listening, reading and speaking as well as grammar. This \\nis because they preferred more traditional resources (e.g. grammar books), they used \\nother devices (e.g. laptop computers) or they regarded themselves as quite proficient in \\nparticular language skills and thus they did  not feel the need to master them by way of \\nMobDs. Representative excerpts from the interviewees’ responses follow:'),\n",
       " Document(metadata={'producer': 'Microsoft® Word 2016', 'creator': 'Microsoft® Word 2016', 'creationdate': '2018-03-05T09:43:57+01:00', 'author': 'agimeno', 'moddate': '2018-03-12T10:24:10-04:00', 'source': '..\\\\data\\\\pdf\\\\test2.pdf', 'total_pages': 11, 'page': 7, 'page_label': '8', 'source_file': 'test2.pdf', 'file_type': 'pdf'}, page_content='particular language skills and thus they did  not feel the need to master them by way of \\nMobDs. Representative excerpts from the interviewees’ responses follow: \\nS3: When it comes to grammar, for me it’s more convenient to use grammar \\nbooks to learn it. \\nS2: (…) I’m pretty good at English grammar and l istening and I don’t have to \\nuse my smartphone to learn these language elements. \\nS12: I think I’m quite good at grammar and I practice listening skills by means \\nof my laptop computer. \\n4.6. Study performance \\nThere is evidence that the use of mobile devices became an impetus for studying \\nEnglish more and learn this language more effectively and efficiently (this advantageous \\neffect was expressed by as many as 15 or 75% interviewees). This is because  access to \\na smartphone or a tablet allows some learners  devote more time to learning English \\n(S1: Yes, I think so. I think I spend more time ... If I was to use traditional materials,'),\n",
       " Document(metadata={'producer': 'Microsoft® Word 2016', 'creator': 'Microsoft® Word 2016', 'creationdate': '2018-03-05T09:43:57+01:00', 'author': 'agimeno', 'moddate': '2018-03-12T10:24:10-04:00', 'source': '..\\\\data\\\\pdf\\\\test2.pdf', 'total_pages': 11, 'page': 7, 'page_label': '8', 'source_file': 'test2.pdf', 'file_type': 'pdf'}, page_content='a smartphone or a tablet allows some learners  devote more time to learning English \\n(S1: Yes, I think so. I think I spend more time ... If I was to use traditional materials, \\nfor example, books, I wouldn’t devote so much time to it.;  S15: It seems to me th at I \\ndedicate more time to learn English this way and I learn more. ), encouraged another \\nstudent to learn more (S6:  I’m more willing to use my smartphone than open a paper \\ndictionary.) and allowed yet another subject to learn more vocabulary (S12:  Yes, \\ndefinitely. I wouldn’t have learned these words if I hadn’t used my phone. ). Such \\nbeneficial outcomes of the use of MobDs are best described by one of the interviewees \\nwho said: \\nIf I’m to say that I devote more time for learning English it’s because I can \\ndevote more time to learning it ... in the way I compare a paper dictionary with \\nan online one ... for example to check one word ... If I use a traditional'),\n",
       " Document(metadata={'producer': 'Microsoft® Word 2016', 'creator': 'Microsoft® Word 2016', 'creationdate': '2018-03-05T09:43:57+01:00', 'author': 'agimeno', 'moddate': '2018-03-12T10:24:10-04:00', 'source': '..\\\\data\\\\pdf\\\\test2.pdf', 'total_pages': 11, 'page': 7, 'page_label': '8', 'source_file': 'test2.pdf', 'file_type': 'pdf'}, page_content='devote more time to learning it ... in the way I compare a paper dictionary with \\nan online one ... for example to check one word ... If I use a traditional \\ndictionary it takes me longer, say three minutes, but If I use an online dictionary \\nit takes me, say, t en seconds (...) this way I can devote less time to looking for'),\n",
       " Document(metadata={'producer': 'Microsoft® Word 2016', 'creator': 'Microsoft® Word 2016', 'creationdate': '2018-03-05T09:43:57+01:00', 'author': 'agimeno', 'moddate': '2018-03-12T10:24:10-04:00', 'source': '..\\\\data\\\\pdf\\\\test2.pdf', 'total_pages': 11, 'page': 8, 'page_label': '9', 'source_file': 'test2.pdf', 'file_type': 'pdf'}, page_content='The EUROCALL Review, Volume 25, No. 2, September 2017 \\n \\n 26 \\ninformation and more on language production, on the use of English ... there is \\nless time used but it’s more effective. (S14) \\nIt is also interesting to note that the use of mobile devices migh t be valuable for \\nkinesthetic or tactical language learners: \\nI think I spend more time … for me it’s much nicer and more interesting than \\nsitting and reading books … it’s better for me since I’m kinesthetic so it’s hard \\nfor me to sit and read a traditional  book ... it’s because I don’t remember then \\nmuch but when I use my smartphone which is mobile I can ... I can do it while \\ndoing other activities and this makes things easier for me. (S5) \\nFinally, it should be noted that 5 (25%) interviewees were not able to say whether or \\nnot the use of mobile devices made them study the target language more effectively or \\nefficiently and they expressed their opinion by simply claiming that “It’s difficult to say”.'),\n",
       " Document(metadata={'producer': 'Microsoft® Word 2016', 'creator': 'Microsoft® Word 2016', 'creationdate': '2018-03-05T09:43:57+01:00', 'author': 'agimeno', 'moddate': '2018-03-12T10:24:10-04:00', 'source': '..\\\\data\\\\pdf\\\\test2.pdf', 'total_pages': 11, 'page': 8, 'page_label': '9', 'source_file': 'test2.pdf', 'file_type': 'pdf'}, page_content=\"not the use of mobile devices made them study the target language more effectively or \\nefficiently and they expressed their opinion by simply claiming that “It’s difficult to say”. \\n5. Discussion and conclusions \\nThe picture that emerges from the analysis of the collected data regarding the advanced \\nlearners' use of mobile devices for learning English is relatively encouraging. This is \\nbecause all the study participants used, at least to some extent, their mobile devices \\n(i.e. smartphones and /or tablet computers) in order to learn the English language \\nautonomously. Moreover, the positive impact of using mobile devices for English study \\nwas acknowledged by the majority of the interviewees. Their beneficial contribution to \\ntheir English developm ent was chiefly linked with easy access to English language \\nresources, the opportunity to store them, comfort in using their smartphones and \\ntablets anywhere and anytime as well as perceived gains in English learning. The results\"),\n",
       " Document(metadata={'producer': 'Microsoft® Word 2016', 'creator': 'Microsoft® Word 2016', 'creationdate': '2018-03-05T09:43:57+01:00', 'author': 'agimeno', 'moddate': '2018-03-12T10:24:10-04:00', 'source': '..\\\\data\\\\pdf\\\\test2.pdf', 'total_pages': 11, 'page': 8, 'page_label': '9', 'source_file': 'test2.pdf', 'file_type': 'pdf'}, page_content='resources, the opportunity to store them, comfort in using their smartphones and \\ntablets anywhere and anytime as well as perceived gains in English learning. The results \\nof the study also showed t hat all interviewees engaged with their smartphones and/or \\ntablet computers to practice the target language vocabulary (plus some students also \\nclaimed to learn pronunciation of English words) and the majority of the subjects used \\ntheir mobile devices auto nomously in their leisure time as well as during language \\nclasses. Such a state of affairs can be explained in terms of increased awareness on the \\npart of some students of the beneficial role of MobDs in foreign language learning, their \\nability to reach fo r appropriate tools and retrieve needed information to achieve their \\ngoals and adjust their learning of the target language to their personal learning styles. \\nDespite this positive view of MobDs reported by the study participants, the results of the'),\n",
       " Document(metadata={'producer': 'Microsoft® Word 2016', 'creator': 'Microsoft® Word 2016', 'creationdate': '2018-03-05T09:43:57+01:00', 'author': 'agimeno', 'moddate': '2018-03-12T10:24:10-04:00', 'source': '..\\\\data\\\\pdf\\\\test2.pdf', 'total_pages': 11, 'page': 8, 'page_label': '9', 'source_file': 'test2.pdf', 'file_type': 'pdf'}, page_content='goals and adjust their learning of the target language to their personal learning styles. \\nDespite this positive view of MobDs reported by the study participants, the results of the \\nstudy also revealed that only a few subjects engaged with  their mobile devices to \\nmaster target language skills such as reading, listening, writing and speaking as well as \\nEnglish language grammar. In addition, some interviewees limited themselves to a \\nrather intuitive and perhaps even spontaneous use of their mobile devices in the \\nlanguage classroom. It should also be noted that almost half of the subjects regarded \\nthemselves as quite inexperienced in using their mobile devices when it comes to \\nlearning the English language despite the fact that some of the students had been using \\nthem with t he intention of learning English for years. Taking all these findings into \\naccount, one may conclude that this is due to a failure or underestimation of the role'),\n",
       " Document(metadata={'producer': 'Microsoft® Word 2016', 'creator': 'Microsoft® Word 2016', 'creationdate': '2018-03-05T09:43:57+01:00', 'author': 'agimeno', 'moddate': '2018-03-12T10:24:10-04:00', 'source': '..\\\\data\\\\pdf\\\\test2.pdf', 'total_pages': 11, 'page': 8, 'page_label': '9', 'source_file': 'test2.pdf', 'file_type': 'pdf'}, page_content='them with t he intention of learning English for years. Taking all these findings into \\naccount, one may conclude that this is due to a failure or underestimation of the role \\nand place of mobile devices in foreign language learning and teaching on the part of \\nlanguage teachers. It seems therefore warranted to say that the subjects’ use of mobile \\ndevices could be altered if teachers took into account the benefits they may offer. For \\nthis reason language teachers should, for instance, present the affordances of mobile \\ntechnology and discuss them with students during language classes. They should also \\nselect mobile apps and create opportunities for using them in - and out-of-class learning \\nby offering or designing tasks devoted to practicing a variety of language skills and \\nsubsystems suitable for the use of such devices. If this were to happen, teachers need \\nto respond quickly to the constant and dynamic changes in contemporary'),\n",
       " Document(metadata={'producer': 'Microsoft® Word 2016', 'creator': 'Microsoft® Word 2016', 'creationdate': '2018-03-05T09:43:57+01:00', 'author': 'agimeno', 'moddate': '2018-03-12T10:24:10-04:00', 'source': '..\\\\data\\\\pdf\\\\test2.pdf', 'total_pages': 11, 'page': 8, 'page_label': '9', 'source_file': 'test2.pdf', 'file_type': 'pdf'}, page_content='subsystems suitable for the use of such devices. If this were to happen, teachers need \\nto respond quickly to the constant and dynamic changes in contemporary \\nforeign/second language learning and teaching contexts by undergoing official teacher \\ntraining not only in the area of technology-mediated language learning and teaching but \\nalso in the context of learner autonomy. \\nAs with all studies , the study reported in this paper has some limitations. Although the \\ninterviewees represented a range of experience of English language learning, the small \\nnumber of participants reduces the generalizability of the results. Another limitation is \\nrelated to the fact that the group was largely homogenous, i.e. the subjects came from \\nthe same institution and all studied English. Yet another weakness may concern the'),\n",
       " Document(metadata={'producer': 'Microsoft® Word 2016', 'creator': 'Microsoft® Word 2016', 'creationdate': '2018-03-05T09:43:57+01:00', 'author': 'agimeno', 'moddate': '2018-03-12T10:24:10-04:00', 'source': '..\\\\data\\\\pdf\\\\test2.pdf', 'total_pages': 11, 'page': 9, 'page_label': '10', 'source_file': 'test2.pdf', 'file_type': 'pdf'}, page_content='The EUROCALL Review, Volume 25, No. 2, September 2017 \\n \\n 27 \\ndata collection instrument, namely the semi -structured interview which was conducted \\nonly once. Perhaps a different set of questions, their wording or a series of such \\ninterviews carried out over a particular period of time (say one academic year) may \\nhave yielded more detailed and insightful results. Despite these limitations, this study \\nprovided some insights into why and how advanced English language learners engage \\nwith their mobile devices to develop learning experiences. It should be stressed, \\nhowever, that teacher involvement in creating conditions conducive to the use of mobile \\ndevices for lan guage study may result in greater learner engagement with mobile \\ntechnology (i.e. mobile devices) and, at the same time, may lead to greater students’ \\nindependence in learning the target language. \\n  \\nReferences \\nBenson, P. (2001).  Teaching and researching au tonomy in language learning . Harlow: \\nPearson Education.'),\n",
       " Document(metadata={'producer': 'Microsoft® Word 2016', 'creator': 'Microsoft® Word 2016', 'creationdate': '2018-03-05T09:43:57+01:00', 'author': 'agimeno', 'moddate': '2018-03-12T10:24:10-04:00', 'source': '..\\\\data\\\\pdf\\\\test2.pdf', 'total_pages': 11, 'page': 9, 'page_label': '10', 'source_file': 'test2.pdf', 'file_type': 'pdf'}, page_content='independence in learning the target language. \\n  \\nReferences \\nBenson, P. (2001).  Teaching and researching au tonomy in language learning . Harlow: \\nPearson Education. \\nBenson, P. (2011). What’s new in autonomy? The Language Teacher, 35(4), 15-18. \\nBenson, P. & Chik, A. (2010). New literacies and autonomy in foreign language learning. \\nIn M. J. Luzón, M. N. Ruiz -Madrid & M. L. Villanueva (Eds.),  Digital genres, new \\nliteracies, and autonomy in language learning  (pp. 63 -80). Newcastle -upon-Tyne: \\nCambridge Scholars Publishing. \\nByrne, J. & Diem, R. (2014). Profiling mobile English language learners.  The JALT \\nCALL Journal I, 10 (1), 3-19. \\nCakir, I. (2015). Opinions and attitudes of prospective teachers for the use of mobile \\nphones in foreign language learning.  Contemporary Educational Technology , 6(3), 239-\\n255. \\nCavus, N. & Ibrahim, D. (2009). m -Learning: An experiment in usin g SMS to support'),\n",
       " Document(metadata={'producer': 'Microsoft® Word 2016', 'creator': 'Microsoft® Word 2016', 'creationdate': '2018-03-05T09:43:57+01:00', 'author': 'agimeno', 'moddate': '2018-03-12T10:24:10-04:00', 'source': '..\\\\data\\\\pdf\\\\test2.pdf', 'total_pages': 11, 'page': 9, 'page_label': '10', 'source_file': 'test2.pdf', 'file_type': 'pdf'}, page_content='phones in foreign language learning.  Contemporary Educational Technology , 6(3), 239-\\n255. \\nCavus, N. & Ibrahim, D. (2009). m -Learning: An experiment in usin g SMS to support \\nlearning new English language words.  British Journal of Educational Technology , 40(1), \\n78-91. \\nDashtestani, R. (2015). Moving bravely towards mobile learning: Iranian students’ use \\nof mobile devices for learning English as a foreign language. Computer Assisted \\nLanguage Learning, 29(4), 815-832. \\nDemouy, V., Jones, A., Kan, Q., Kukulska-Hulme, A. & Eardley, A. (2016). Why and how \\ndo distance learners use mobile devices for language learning?  The EuroCALL \\nReview, 24(1), 10-24. \\nDíaz-Vera, J. (Ed.). (2012).  Left to my own devices: Learner autonomy and mobile -\\nassisted language learning. Bingley, UK: Emerald Group. \\nDjoub, Z. (2015). Mobile technology and learner autonomy in language learning. In J. \\nKeengwe (Ed.),  Promoting active learning thr ough the integration of mobile'),\n",
       " Document(metadata={'producer': 'Microsoft® Word 2016', 'creator': 'Microsoft® Word 2016', 'creationdate': '2018-03-05T09:43:57+01:00', 'author': 'agimeno', 'moddate': '2018-03-12T10:24:10-04:00', 'source': '..\\\\data\\\\pdf\\\\test2.pdf', 'total_pages': 11, 'page': 9, 'page_label': '10', 'source_file': 'test2.pdf', 'file_type': 'pdf'}, page_content='Djoub, Z. (2015). Mobile technology and learner autonomy in language learning. In J. \\nKeengwe (Ed.),  Promoting active learning thr ough the integration of mobile \\nand ubiquitous technologies (pp. 194-212). Hershey: IGI Global. \\nDörnyei, Z. (2007).  Research methods in applied linguistics . Oxford: Oxford University \\nPress. \\nHolec, H. (1981). Autonomy and foreign language learning. Oxford: Pergamon Press. \\nJones, A. (2015). Mobile informal language learning: Exploring Welsh learners’ \\npractices, eLearning Papers, 45, 4-14. \\nKukulska-Hulme, A., Norris, L. & Donohue, J. (2015).  Mobile pedagogy for English \\nlanguage teaching: A guide for teachers. British Council, London. \\nKukulska-Hulme, A. & Shield, L. (2008). An overview of mobile assisted language \\nlearning: From content delivery to supported collaboration and \\ninteraction. ReCALL, 20(3), 271-289. \\nKukulska-Hulme, A., Traxler, J. & Pettit, J. (2007).  Designed and user -generated'),\n",
       " Document(metadata={'producer': 'Microsoft® Word 2016', 'creator': 'Microsoft® Word 2016', 'creationdate': '2018-03-05T09:43:57+01:00', 'author': 'agimeno', 'moddate': '2018-03-12T10:24:10-04:00', 'source': '..\\\\data\\\\pdf\\\\test2.pdf', 'total_pages': 11, 'page': 9, 'page_label': '10', 'source_file': 'test2.pdf', 'file_type': 'pdf'}, page_content='learning: From content delivery to supported collaboration and \\ninteraction. ReCALL, 20(3), 271-289. \\nKukulska-Hulme, A., Traxler, J. & Pettit, J. (2007).  Designed and user -generated \\nactivity in the mobile age. Journal of Learning Design, 2(1), 52-65. \\nLee, L. (2011). Blogging: Promoting learner autonomy and intercultural competence \\nthrough study abroad. Language Learning & Technology, 5, 87-109.'),\n",
       " Document(metadata={'producer': 'Microsoft® Word 2016', 'creator': 'Microsoft® Word 2016', 'creationdate': '2018-03-05T09:43:57+01:00', 'author': 'agimeno', 'moddate': '2018-03-12T10:24:10-04:00', 'source': '..\\\\data\\\\pdf\\\\test2.pdf', 'total_pages': 11, 'page': 10, 'page_label': '11', 'source_file': 'test2.pdf', 'file_type': 'pdf'}, page_content='The EUROCALL Review, Volume 25, No. 2, September 2017 \\n \\n 28 \\nLittle, D. (2009). Language learner autonomy and the European Language Portfolio: \\nTwo L2 English examples. Language Teaching, 42, 222-233. \\nLittle, D. (1991).  Learner autonomy 1: Definitions, issues and problems . Dublin: \\nAuthentik. \\nLittlewood, W. (1996). Autonomy: An anatomy and a framework.  System, 24(4), 427-\\n435. \\nMiangah, T.M. & Nezarat, A. (2012). Mobile -assisted language \\nlearning. International Journal of Distributed and Parallel Systems, 3(1), 309-319. \\nNah, K.C., White, P. & Sussex, R. (2008). The potential of using a mobile phone to \\naccess the internet for learning EFL listening skills within a Korean \\ncontext. ReCALL, 20(3), 331-347. \\nOz, H. (2015). An investigation of preservice English teachers’ percep tions of mobile \\nassisted language learning. English Language Teaching, 8(2), 22-34. \\nPettit, J. & Kukulska -Hulme, A. (2007). Going with the grain: Mobile devices in'),\n",
       " Document(metadata={'producer': 'Microsoft® Word 2016', 'creator': 'Microsoft® Word 2016', 'creationdate': '2018-03-05T09:43:57+01:00', 'author': 'agimeno', 'moddate': '2018-03-12T10:24:10-04:00', 'source': '..\\\\data\\\\pdf\\\\test2.pdf', 'total_pages': 11, 'page': 10, 'page_label': '11', 'source_file': 'test2.pdf', 'file_type': 'pdf'}, page_content='assisted language learning. English Language Teaching, 8(2), 22-34. \\nPettit, J. & Kukulska -Hulme, A. (2007). Going with the grain: Mobile devices in \\npractice. Australasian Journal of Educational Technology, 23(1), 17-33. \\nReinders, H. (2011). Towards an operationalisation of autonomy. In A. Ahmed, G. Cane \\n& M. Hanzala.  Teaching English in multilingual contexts: Current challenges, future \\ndirections (pp. 37-52). Cambridge: Cambridge Scholars Publishing. \\nReinders, H. & White, C. (2016). 20 years  of autonomy and technology: How far have \\nwe come and where to next?  Language Learning & Technology , 20(2), 143 -154. \\nRetrieved from http://llt.msu.edu/issues/june2016/reinderswhite.pdf. \\nReinders, H. & Cho, M. (2011). Encouraging informal language learning with mobile \\ntechnology: Does it work? Journal of Second Language Teaching and Research, 1, 3-29. \\nStockwell, G. (2007). Vocabulary on  the move: Investigating an intelligent mobile'),\n",
       " Document(metadata={'producer': 'Microsoft® Word 2016', 'creator': 'Microsoft® Word 2016', 'creationdate': '2018-03-05T09:43:57+01:00', 'author': 'agimeno', 'moddate': '2018-03-12T10:24:10-04:00', 'source': '..\\\\data\\\\pdf\\\\test2.pdf', 'total_pages': 11, 'page': 10, 'page_label': '11', 'source_file': 'test2.pdf', 'file_type': 'pdf'}, page_content='technology: Does it work? Journal of Second Language Teaching and Research, 1, 3-29. \\nStockwell, G. (2007). Vocabulary on  the move: Investigating an intelligent mobile \\nphone-based vocabulary tutor. Computer Assisted Language Learning, 20(4), 365-383. \\nTrifanova, A., Knapp, J., Ronchetti, M.  & Gamper, J. (2004). Mobile ELDIT: Challenges \\nin the transitions from an e -learning to an m-learning system. Trento, Italy: University \\nof Trento. Retrieved December  12, 2016, \\nfrom http://eprints.biblio.unitn.it/archive/00000532/01/paper4911.pdf. \\nZhang, H., Song, W. & Burston, J. (2011). Reexamining the effectiveness of vocabulary \\nlearning via mobile phones.  The Turkish Online Journal of Educational \\nTechnology, 10(3), 203-214. \\n  \\n[1] It should be noted that the reason for choosing this sample was for convenience \\nsince they were accessible to the researcher (Dörnyei, 2007, p. 98-99). \\n[2] It should be noted that in order to ward off potential misunderstandings and to allow'),\n",
       " Document(metadata={'producer': 'Microsoft® Word 2016', 'creator': 'Microsoft® Word 2016', 'creationdate': '2018-03-05T09:43:57+01:00', 'author': 'agimeno', 'moddate': '2018-03-12T10:24:10-04:00', 'source': '..\\\\data\\\\pdf\\\\test2.pdf', 'total_pages': 11, 'page': 10, 'page_label': '11', 'source_file': 'test2.pdf', 'file_type': 'pdf'}, page_content='since they were accessible to the researcher (Dörnyei, 2007, p. 98-99). \\n[2] It should be noted that in order to ward off potential misunderstandings and to allow \\nthe participants to freely elaborate upon their answers, the interviews were conducted \\nin Polish. \\n[3] Both here and throughout the remainder of the paper, the excerpts are translations \\nof the students’ responses by the present author.')]"
      ]
     },
     "execution_count": 91,
     "metadata": {},
     "output_type": "execute_result"
    }
   ],
   "source": [
    "chunks=split_documents(all_pdf_documents)\n",
    "chunks"
   ]
  },
  {
   "cell_type": "code",
   "execution_count": 92,
   "id": "6b8f718a",
   "metadata": {},
   "outputs": [],
   "source": [
    "import numpy as np\n",
    "from sentence_transformers import SentenceTransformer\n",
    "import chromadb\n",
    "from chromadb.config import Settings\n",
    "import uuid\n",
    "from typing import List, Dict, Any, Tuple\n",
    "from sklearn.metrics.pairwise import cosine_similarity"
   ]
  },
  {
   "cell_type": "code",
   "execution_count": 93,
   "id": "94a8537f",
   "metadata": {},
   "outputs": [
    {
     "name": "stdout",
     "output_type": "stream",
     "text": [
      "Loading embedding model: all-MiniLM-L6-v2\n",
      "Model loaded successfully. Embedding dimension: 384\n"
     ]
    },
    {
     "data": {
      "text/plain": [
       "<__main__.EmbeddingManager at 0x299bad10980>"
      ]
     },
     "execution_count": 93,
     "metadata": {},
     "output_type": "execute_result"
    }
   ],
   "source": [
    "class EmbeddingManager:\n",
    "    \"\"\"Handles document embedding generation using SentenceTransformer\"\"\"\n",
    "    \n",
    "    def __init__(self, model_name: str = \"all-MiniLM-L6-v2\"):\n",
    "        \"\"\"\n",
    "        Initialize the embedding manager\n",
    "        \n",
    "        Args:\n",
    "            model_name: HuggingFace model name for sentence embeddings\n",
    "        \"\"\"\n",
    "        self.model_name = model_name\n",
    "        self.model = None\n",
    "        self._load_model()\n",
    "\n",
    "    def _load_model(self):\n",
    "        \"\"\"Load the SentenceTransformer model\"\"\"\n",
    "        try:\n",
    "            print(f\"Loading embedding model: {self.model_name}\")\n",
    "            self.model = SentenceTransformer(self.model_name)\n",
    "            print(f\"Model loaded successfully. Embedding dimension: {self.model.get_sentence_embedding_dimension()}\")\n",
    "        except Exception as e:\n",
    "            print(f\"Error loading model {self.model_name}: {e}\")\n",
    "            raise\n",
    "\n",
    "    def generate_embeddings(self, texts: List[str]) -> np.ndarray:\n",
    "        \"\"\"\n",
    "        Generate embeddings for a list of texts\n",
    "        \n",
    "        Args:\n",
    "            texts: List of text strings to embed\n",
    "            \n",
    "        Returns:\n",
    "            numpy array of embeddings with shape (len(texts), embedding_dim)\n",
    "        \"\"\"\n",
    "        if not self.model:\n",
    "            raise ValueError(\"Model not loaded\")\n",
    "        \n",
    "        print(f\"Generating embeddings for {len(texts)} texts...\")\n",
    "        embeddings = self.model.encode(texts, show_progress_bar=True)\n",
    "        print(f\"Generated embeddings with shape: {embeddings.shape}\")\n",
    "        return embeddings\n",
    "\n",
    "\n",
    "## initialize the embedding manager\n",
    "\n",
    "embedding_manager=EmbeddingManager()\n",
    "embedding_manager"
   ]
  },
  {
   "cell_type": "markdown",
   "id": "98331998",
   "metadata": {},
   "source": [
    "### Vector Store"
   ]
  },
  {
   "cell_type": "code",
   "execution_count": 94,
   "id": "3f453e4a",
   "metadata": {},
   "outputs": [
    {
     "name": "stdout",
     "output_type": "stream",
     "text": [
      "Vector store initialized. Collection: pdf_documents\n",
      "Existing documents in collection: 224\n"
     ]
    },
    {
     "data": {
      "text/plain": [
       "<__main__.VectorStore at 0x299ba400860>"
      ]
     },
     "execution_count": 94,
     "metadata": {},
     "output_type": "execute_result"
    }
   ],
   "source": [
    "class VectorStore:\n",
    "    \"\"\"Manages document embeddings in a ChromaDB vector store\"\"\"\n",
    "    \n",
    "    def __init__(self, collection_name: str = \"pdf_documents\", persist_directory: str = \"../data/vector_store\"):\n",
    "        \"\"\"\n",
    "        Initialize the vector store\n",
    "        \n",
    "        Args:\n",
    "            collection_name: Name of the ChromaDB collection\n",
    "            persist_directory: Directory to persist the vector store\n",
    "        \"\"\"\n",
    "        self.collection_name = collection_name\n",
    "        self.persist_directory = persist_directory\n",
    "        self.client = None\n",
    "        self.collection = None\n",
    "        self._initialize_store()\n",
    "\n",
    "    def _initialize_store(self):\n",
    "        \"\"\"Initialize ChromaDB client and collection\"\"\"\n",
    "        try:\n",
    "            # Create persistent ChromaDB client\n",
    "            os.makedirs(self.persist_directory, exist_ok=True)\n",
    "            self.client = chromadb.PersistentClient(path=self.persist_directory)\n",
    "            \n",
    "            # Get or create collection\n",
    "            self.collection = self.client.get_or_create_collection(\n",
    "                name=self.collection_name,\n",
    "                metadata={\"description\": \"PDF document embeddings for RAG\"}\n",
    "            )\n",
    "            print(f\"Vector store initialized. Collection: {self.collection_name}\")\n",
    "            print(f\"Existing documents in collection: {self.collection.count()}\")\n",
    "            \n",
    "        except Exception as e:\n",
    "            print(f\"Error initializing vector store: {e}\")\n",
    "            raise\n",
    "\n",
    "    def add_documents(self, documents: List[Any], embeddings: np.ndarray):\n",
    "        \"\"\"\n",
    "        Add documents and their embeddings to the vector store\n",
    "        \n",
    "        Args:\n",
    "            documents: List of LangChain documents\n",
    "            embeddings: Corresponding embeddings for the documents\n",
    "        \"\"\"\n",
    "        if len(documents) != len(embeddings):\n",
    "            raise ValueError(\"Number of documents must match number of embeddings\")\n",
    "        \n",
    "        print(f\"Adding {len(documents)} documents to vector store...\")\n",
    "        \n",
    "        # Prepare data for ChromaDB\n",
    "        ids = []\n",
    "        metadatas = []\n",
    "        documents_text = []\n",
    "        embeddings_list = []\n",
    "        \n",
    "        for i, (doc, embedding) in enumerate(zip(documents, embeddings)):\n",
    "            # Generate unique ID\n",
    "            doc_id = f\"doc_{uuid.uuid4().hex[:8]}_{i}\"\n",
    "            ids.append(doc_id)\n",
    "            \n",
    "            # Prepare metadata\n",
    "            metadata = dict(doc.metadata)\n",
    "            metadata['doc_index'] = i\n",
    "            metadata['content_length'] = len(doc.page_content)\n",
    "            metadatas.append(metadata)\n",
    "            \n",
    "            # Document content\n",
    "            documents_text.append(doc.page_content)\n",
    "            \n",
    "            # Embedding\n",
    "            embeddings_list.append(embedding.tolist())\n",
    "        \n",
    "        # Add to collection\n",
    "        try:\n",
    "            self.collection.add(\n",
    "                ids=ids,\n",
    "                embeddings=embeddings_list,\n",
    "                metadatas=metadatas,\n",
    "                documents=documents_text\n",
    "            )\n",
    "            print(f\"Successfully added {len(documents)} documents to vector store\")\n",
    "            print(f\"Total documents in collection: {self.collection.count()}\")\n",
    "            \n",
    "        except Exception as e:\n",
    "            print(f\"Error adding documents to vector store: {e}\")\n",
    "            raise\n",
    "\n",
    "vectorstore=VectorStore()\n",
    "vectorstore\n",
    "    "
   ]
  },
  {
   "cell_type": "code",
   "execution_count": 95,
   "id": "a65683c6",
   "metadata": {},
   "outputs": [
    {
     "name": "stdout",
     "output_type": "stream",
     "text": [
      "Generating embeddings for 56 texts...\n"
     ]
    },
    {
     "name": "stderr",
     "output_type": "stream",
     "text": [
      "Batches: 100%|██████████| 2/2 [00:00<00:00,  2.72it/s]"
     ]
    },
    {
     "name": "stdout",
     "output_type": "stream",
     "text": [
      "Generated embeddings with shape: (56, 384)\n",
      "Adding 56 documents to vector store...\n",
      "Successfully added 56 documents to vector store\n",
      "Total documents in collection: 280\n"
     ]
    },
    {
     "name": "stderr",
     "output_type": "stream",
     "text": [
      "\n"
     ]
    }
   ],
   "source": [
    "### Convert the text to embeddings\n",
    "texts=[doc.page_content for doc in chunks]\n",
    "\n",
    "## Generate the Embeddings\n",
    "\n",
    "embeddings=embedding_manager.generate_embeddings(texts)\n",
    "\n",
    "##store in the vector database\n",
    "vectorstore.add_documents(chunks,embeddings)"
   ]
  },
  {
   "cell_type": "markdown",
   "id": "6bc3440d",
   "metadata": {},
   "source": [
    "### Retriever Pipeline From VectorStore"
   ]
  },
  {
   "cell_type": "code",
   "execution_count": 96,
   "id": "7da36f57",
   "metadata": {},
   "outputs": [
    {
     "data": {
      "text/plain": [
       "<__main__.RAGRetriever at 0x299baa345c0>"
      ]
     },
     "execution_count": 96,
     "metadata": {},
     "output_type": "execute_result"
    }
   ],
   "source": [
    "class RAGRetriever:\n",
    "    \"\"\"Handles query-based retrieval from the vector store\"\"\"\n",
    "    \n",
    "    def __init__(self, vector_store: VectorStore, embedding_manager: EmbeddingManager):\n",
    "        \"\"\"\n",
    "        Initialize the retriever\n",
    "        \n",
    "        Args:\n",
    "            vector_store: Vector store containing document embeddings\n",
    "            embedding_manager: Manager for generating query embeddings\n",
    "        \"\"\"\n",
    "        self.vector_store = vector_store\n",
    "        self.embedding_manager = embedding_manager\n",
    "\n",
    "    def retrieve(self, query: str, top_k: int = 5, score_threshold: float = 0.0) -> List[Dict[str, Any]]:\n",
    "        \"\"\"\n",
    "        Retrieve relevant documents for a query\n",
    "        \n",
    "        Args:\n",
    "            query: The search query\n",
    "            top_k: Number of top results to return\n",
    "            score_threshold: Minimum similarity score threshold\n",
    "            \n",
    "        Returns:\n",
    "            List of dictionaries containing retrieved documents and metadata\n",
    "        \"\"\"\n",
    "        print(f\"Retrieving documents for query: '{query}'\")\n",
    "        print(f\"Top K: {top_k}, Score threshold: {score_threshold}\")\n",
    "        \n",
    "        # Generate query embedding\n",
    "        query_embedding = self.embedding_manager.generate_embeddings([query])[0]\n",
    "        \n",
    "        # Search in vector store\n",
    "        try:\n",
    "            results = self.vector_store.collection.query(\n",
    "                query_embeddings=[query_embedding.tolist()],\n",
    "                n_results=top_k\n",
    "            )\n",
    "            \n",
    "            # Process results\n",
    "            retrieved_docs = []\n",
    "            \n",
    "            if results['documents'] and results['documents'][0]:\n",
    "                documents = results['documents'][0]\n",
    "                metadatas = results['metadatas'][0]\n",
    "                distances = results['distances'][0]\n",
    "                ids = results['ids'][0]\n",
    "                \n",
    "                for i, (doc_id, document, metadata, distance) in enumerate(zip(ids, documents, metadatas, distances)):\n",
    "                    # Convert distance to similarity score (ChromaDB uses cosine distance)\n",
    "                    similarity_score = 1 - distance\n",
    "                    \n",
    "                    if similarity_score >= score_threshold:\n",
    "                        retrieved_docs.append({\n",
    "                            'id': doc_id,\n",
    "                            'content': document,\n",
    "                            'metadata': metadata,\n",
    "                            'similarity_score': similarity_score,\n",
    "                            'distance': distance,\n",
    "                            'rank': i + 1\n",
    "                        })\n",
    "                \n",
    "                print(f\"Retrieved {len(retrieved_docs)} documents (after filtering)\")\n",
    "            else:\n",
    "                print(\"No documents found\")\n",
    "            \n",
    "            return retrieved_docs\n",
    "            \n",
    "        except Exception as e:\n",
    "            print(f\"Error during retrieval: {e}\")\n",
    "            return []\n",
    "\n",
    "rag_retriever=RAGRetriever(vectorstore,embedding_manager)\n",
    "rag_retriever"
   ]
  },
  {
   "cell_type": "code",
   "execution_count": 97,
   "id": "1a723727",
   "metadata": {},
   "outputs": [
    {
     "name": "stdout",
     "output_type": "stream",
     "text": [
      "Retrieving documents for query: 'look at advanced learners'\n",
      "Top K: 5, Score threshold: 0.0\n",
      "Generating embeddings for 1 texts...\n"
     ]
    },
    {
     "name": "stderr",
     "output_type": "stream",
     "text": [
      "Batches: 100%|██████████| 1/1 [00:00<00:00, 408.24it/s]"
     ]
    },
    {
     "name": "stdout",
     "output_type": "stream",
     "text": [
      "Generated embeddings with shape: (1, 384)\n",
      "Retrieved 5 documents (after filtering)\n"
     ]
    },
    {
     "name": "stderr",
     "output_type": "stream",
     "text": [
      "\n"
     ]
    },
    {
     "data": {
      "text/plain": [
       "[{'id': 'doc_4fb29834_2',\n",
       "  'content': 'of mobile apps available, easy access to the internet) and/or the fact tha t they are \\nincreasingly more common among learners make them an important and pot entially \\nuseful addition to formal and informal language learning. \\nAccording to Benson (2011), there has always been a connection between educational \\ntechnologies and learner autonomy to the extent that they have often been intended for \\nindependent practice. It should be noted, however, that this link and “future enquiry \\nand practice into technology -mediated learner autonomy will need to be increasingly \\naligned to the tools, settings, and activities that are of significance to language learners” \\n(Reinders & White, 2016, p. 151). Reinders and White (2016) further argue that  as long \\nas “the potential range of settings, tools, and experiences is now virtually limitless, \\nindividuals need to be increasingly adept at critical adaptive learning in order to benefit',\n",
       "  'metadata': {'source': '..\\\\data\\\\pdf\\\\test2.pdf',\n",
       "   'doc_index': 2,\n",
       "   'creator': 'Microsoft® Word 2016',\n",
       "   'total_pages': 11,\n",
       "   'file_type': 'pdf',\n",
       "   'page': 0,\n",
       "   'moddate': '2018-03-12T10:24:10-04:00',\n",
       "   'source_file': 'test2.pdf',\n",
       "   'author': 'agimeno',\n",
       "   'creationdate': '2018-03-05T09:43:57+01:00',\n",
       "   'producer': 'Microsoft® Word 2016',\n",
       "   'page_label': '1',\n",
       "   'content_length': 936},\n",
       "  'similarity_score': 0.11202752590179443,\n",
       "  'distance': 0.8879724740982056,\n",
       "  'rank': 1},\n",
       " {'id': 'doc_a6dd3bbb_2',\n",
       "  'content': 'of mobile apps available, easy access to the internet) and/or the fact tha t they are \\nincreasingly more common among learners make them an important and pot entially \\nuseful addition to formal and informal language learning. \\nAccording to Benson (2011), there has always been a connection between educational \\ntechnologies and learner autonomy to the extent that they have often been intended for \\nindependent practice. It should be noted, however, that this link and “future enquiry \\nand practice into technology -mediated learner autonomy will need to be increasingly \\naligned to the tools, settings, and activities that are of significance to language learners” \\n(Reinders & White, 2016, p. 151). Reinders and White (2016) further argue that  as long \\nas “the potential range of settings, tools, and experiences is now virtually limitless, \\nindividuals need to be increasingly adept at critical adaptive learning in order to benefit',\n",
       "  'metadata': {'creator': 'Microsoft® Word 2016',\n",
       "   'content_length': 936,\n",
       "   'moddate': '2018-03-12T10:24:10-04:00',\n",
       "   'author': 'agimeno',\n",
       "   'page': 0,\n",
       "   'page_label': '1',\n",
       "   'total_pages': 11,\n",
       "   'source_file': 'test2.pdf',\n",
       "   'file_type': 'pdf',\n",
       "   'producer': 'Microsoft® Word 2016',\n",
       "   'doc_index': 2,\n",
       "   'creationdate': '2018-03-05T09:43:57+01:00',\n",
       "   'source': '..\\\\data\\\\pdf\\\\test2.pdf'},\n",
       "  'similarity_score': 0.11202752590179443,\n",
       "  'distance': 0.8879724740982056,\n",
       "  'rank': 2},\n",
       " {'id': 'doc_478ea30b_2',\n",
       "  'content': 'of mobile apps available, easy access to the internet) and/or the fact tha t they are \\nincreasingly more common among learners make them an important and pot entially \\nuseful addition to formal and informal language learning. \\nAccording to Benson (2011), there has always been a connection between educational \\ntechnologies and learner autonomy to the extent that they have often been intended for \\nindependent practice. It should be noted, however, that this link and “future enquiry \\nand practice into technology -mediated learner autonomy will need to be increasingly \\naligned to the tools, settings, and activities that are of significance to language learners” \\n(Reinders & White, 2016, p. 151). Reinders and White (2016) further argue that  as long \\nas “the potential range of settings, tools, and experiences is now virtually limitless, \\nindividuals need to be increasingly adept at critical adaptive learning in order to benefit',\n",
       "  'metadata': {'doc_index': 2,\n",
       "   'total_pages': 11,\n",
       "   'file_type': 'pdf',\n",
       "   'page': 0,\n",
       "   'source_file': 'test2.pdf',\n",
       "   'creator': 'Microsoft® Word 2016',\n",
       "   'producer': 'Microsoft® Word 2016',\n",
       "   'author': 'agimeno',\n",
       "   'creationdate': '2018-03-05T09:43:57+01:00',\n",
       "   'source': '..\\\\data\\\\pdf\\\\test2.pdf',\n",
       "   'moddate': '2018-03-12T10:24:10-04:00',\n",
       "   'page_label': '1',\n",
       "   'content_length': 936},\n",
       "  'similarity_score': 0.11202752590179443,\n",
       "  'distance': 0.8879724740982056,\n",
       "  'rank': 3},\n",
       " {'id': 'doc_113dce79_2',\n",
       "  'content': 'of mobile apps available, easy access to the internet) and/or the fact tha t they are \\nincreasingly more common among learners make them an important and pot entially \\nuseful addition to formal and informal language learning. \\nAccording to Benson (2011), there has always been a connection between educational \\ntechnologies and learner autonomy to the extent that they have often been intended for \\nindependent practice. It should be noted, however, that this link and “future enquiry \\nand practice into technology -mediated learner autonomy will need to be increasingly \\naligned to the tools, settings, and activities that are of significance to language learners” \\n(Reinders & White, 2016, p. 151). Reinders and White (2016) further argue that  as long \\nas “the potential range of settings, tools, and experiences is now virtually limitless, \\nindividuals need to be increasingly adept at critical adaptive learning in order to benefit',\n",
       "  'metadata': {'creationdate': '2018-03-05T09:43:57+01:00',\n",
       "   'producer': 'Microsoft® Word 2016',\n",
       "   'source': '..\\\\data\\\\pdf\\\\test2.pdf',\n",
       "   'author': 'agimeno',\n",
       "   'source_file': 'test2.pdf',\n",
       "   'file_type': 'pdf',\n",
       "   'doc_index': 2,\n",
       "   'page': 0,\n",
       "   'page_label': '1',\n",
       "   'moddate': '2018-03-12T10:24:10-04:00',\n",
       "   'creator': 'Microsoft® Word 2016',\n",
       "   'total_pages': 11,\n",
       "   'content_length': 936},\n",
       "  'similarity_score': 0.11202752590179443,\n",
       "  'distance': 0.8879724740982056,\n",
       "  'rank': 4},\n",
       " {'id': 'doc_5341fec8_2',\n",
       "  'content': 'of mobile apps available, easy access to the internet) and/or the fact tha t they are \\nincreasingly more common among learners make them an important and pot entially \\nuseful addition to formal and informal language learning. \\nAccording to Benson (2011), there has always been a connection between educational \\ntechnologies and learner autonomy to the extent that they have often been intended for \\nindependent practice. It should be noted, however, that this link and “future enquiry \\nand practice into technology -mediated learner autonomy will need to be increasingly \\naligned to the tools, settings, and activities that are of significance to language learners” \\n(Reinders & White, 2016, p. 151). Reinders and White (2016) further argue that  as long \\nas “the potential range of settings, tools, and experiences is now virtually limitless, \\nindividuals need to be increasingly adept at critical adaptive learning in order to benefit',\n",
       "  'metadata': {'producer': 'Microsoft® Word 2016',\n",
       "   'content_length': 936,\n",
       "   'source_file': 'test2.pdf',\n",
       "   'total_pages': 11,\n",
       "   'creationdate': '2018-03-05T09:43:57+01:00',\n",
       "   'source': '..\\\\data\\\\pdf\\\\test2.pdf',\n",
       "   'file_type': 'pdf',\n",
       "   'author': 'agimeno',\n",
       "   'moddate': '2018-03-12T10:24:10-04:00',\n",
       "   'page_label': '1',\n",
       "   'page': 0,\n",
       "   'doc_index': 2,\n",
       "   'creator': 'Microsoft® Word 2016'},\n",
       "  'similarity_score': 0.11202752590179443,\n",
       "  'distance': 0.8879724740982056,\n",
       "  'rank': 5}]"
      ]
     },
     "execution_count": 97,
     "metadata": {},
     "output_type": "execute_result"
    }
   ],
   "source": [
    "rag_retriever.retrieve(\"look at advanced learners\")"
   ]
  },
  {
   "cell_type": "markdown",
   "id": "aa23aec0",
   "metadata": {},
   "source": [
    "### RAG Pipeline- VectorDB To LLM Output Generation"
   ]
  },
  {
   "cell_type": "code",
   "execution_count": 98,
   "id": "59474538",
   "metadata": {},
   "outputs": [
    {
     "name": "stdout",
     "output_type": "stream",
     "text": [
    
     ]
    }
   ],
   "source": [
    "import os\n",
    "from dotenv import load_dotenv\n",
    "load_dotenv()\n",
    "\n",
    "print(os.getenv(\"DeepSeek_API_KEY\"))"
   ]
  },
  {
   "cell_type": "code",
   "execution_count": 99,
   "id": "acbad3fe",
   "metadata": {},
   "outputs": [],
   "source": [
    "from langchain_deepseek import ChatDeepSeek\n",
    "from langchain_core.prompts import PromptTemplate\n",
    "from langchain_core.messages import HumanMessage, SystemMessage"
   ]
  },
  {
   "cell_type": "code",
   "execution_count": 100,
   "id": "ac043d74",
   "metadata": {},
   "outputs": [],
   "source": [
    "class DeepSeekLLM:\n",
    "    def __init__(self, model_name: str = \"gemma2-9b-it\", api_key: str =None):\n",
    "        \"\"\"\n",
    "        Initialize DeepSeek LLM\n",
    "    \n",
    "        Args:\n",
    "            model_name: DeepSeek model name (qwen2-72b-instruct, llama3-70b-8192, etc.)\n",
    "            api_key: DeepSeek API key (or set DEEPSEEK_API_KEY environment variable)\n",
    "        \"\"\"\n",
    "        self.model_name = model_name\n",
    "        self.api_key = api_key or os.environ.get(\"DeepSeek_API_KEY\")\n",
    "\n",
    "        if not self.api_key:\n",
    "            raise ValueError(\"DeepSeek API key is required. Set DEEPSEEK_API_KEY environment variable or pass api_key parameter.\")\n",
    "\n",
    "        self.llm = ChatDeepSeek(\n",
    "            deepseek_api_key=self.api_key,\n",
    "            model_name=self.model_name,\n",
    "            temperature=0.1,\n",
    "            max_tokens=1024\n",
    "        )\n",
    "\n",
    "        print(f\"Initialized DeepSeek LLM with model: {self.model_name}\")\n",
    "\n",
    "    def generate_response(self, query: str, context: str, max_length: int = 500) -> str:\n",
    "        \"\"\"\n",
    "        Generate response using retrieved context\n",
    "        \n",
    "        Args:\n",
    "            query: User question\n",
    "            context: Retrieved document context\n",
    "            max_length: Maximum response length\n",
    "            \n",
    "        Returns:\n",
    "            Generated response string\n",
    "        \"\"\"\n",
    "        \n",
    "        # Create prompt template\n",
    "        prompt_template = PromptTemplate(\n",
    "            input_variables=[\"context\", \"question\"],\n",
    "            template=\"\"\"You are a helpful AI assistant. Use the following context to answer the question accurately and concisely.\n",
    "\n",
    "Context:\n",
    "{context}\n",
    "\n",
    "Question: {question}\n",
    "\n",
    "Answer: Provide a clear and informative answer based on the context above. If the context doesn't contain enough information to answer the question, say so.\"\"\"\n",
    "        )\n",
    "        \n",
    "        # Format the prompt\n",
    "        formatted_prompt = prompt_template.format(context=context, question=query)\n",
    "        \n",
    "        try:\n",
    "            # Generate response\n",
    "            messages = [HumanMessage(content=formatted_prompt)]\n",
    "            response = self.llm.invoke(messages)\n",
    "            return response.content\n",
    "            \n",
    "        except Exception as e:\n",
    "            return f\"Error generating response: {str(e)}\"\n",
    "        \n",
    "    def generate_response_simple(self, query: str, context: str) -> str:\n",
    "        \"\"\"\n",
    "        Simple response generation without complex prompting\n",
    "        \n",
    "        Args:\n",
    "            query: User question\n",
    "            context: Retrieved context\n",
    "            \n",
    "        Returns:\n",
    "            Generated response\n",
    "        \"\"\"\n",
    "        simple_prompt = f\"\"\"Based on this context: {context}\n",
    "\n",
    "Question: {query}\n",
    "\n",
    "Answer:\"\"\"\n",
    "        \n",
    "        try:\n",
    "            messages = [HumanMessage(content=simple_prompt)]\n",
    "            response = self.llm.invoke(messages)\n",
    "            return response.content\n",
    "        except Exception as e:\n",
    "            return f\"Error: {str(e)}\"\n",
    "    \n"
   ]
  },
  {
   "cell_type": "code",
   "execution_count": 101,
   "id": "69066029",
   "metadata": {},
   "outputs": [
    {
     "name": "stdout",
     "output_type": "stream",
     "text": [
      "Initialized DeepSeek LLM with model: gpt-oss-20b\n",
      "DeepSeek LLM initialized successfully!\n"
     ]
    }
   ],
   "source": [
    "# Initialize DeepSeek LLM (you'll need to set DEEPSEEK_API_KEY environment variable)\n",
    "try:\n",
    "    deepseek_llm = DeepSeekLLM(api_key=os.getenv(\"DeepSeek_API_KEY\"), model_name=\"gpt-oss-20b\")\n",
    "    print(\"DeepSeek LLM initialized successfully!\")\n",
    "except ValueError as e:\n",
    "    print(f\"Warning: {e}\")\n",
    "    print(\"Please set your DEEPSEEK_API_KEY environment variable to use the LLM.\")\n",
    "    deepseek_llm = None"
   ]
  },
  {
   "cell_type": "code",
   "execution_count": 102,
   "id": "4f17ef80",
   "metadata": {},
   "outputs": [
    {
     "name": "stdout",
     "output_type": "stream",
     "text": [
      "Retrieving documents for query: 'look at advanced learners'\n",
      "Top K: 5, Score threshold: 0.0\n",
      "Generating embeddings for 1 texts...\n"
     ]
    },
    {
     "name": "stderr",
     "output_type": "stream",
     "text": [
      "Batches: 100%|██████████| 1/1 [00:00<00:00, 493.62it/s]"
     ]
    },
    {
     "name": "stdout",
     "output_type": "stream",
     "text": [
      "Generated embeddings with shape: (1, 384)\n",
      "Retrieved 5 documents (after filtering)\n"
     ]
    },
    {
     "name": "stderr",
     "output_type": "stream",
     "text": [
      "\n"
     ]
    },
    {
     "data": {
      "text/plain": [
       "[{'id': 'doc_4fb29834_2',\n",
       "  'content': 'of mobile apps available, easy access to the internet) and/or the fact tha t they are \\nincreasingly more common among learners make them an important and pot entially \\nuseful addition to formal and informal language learning. \\nAccording to Benson (2011), there has always been a connection between educational \\ntechnologies and learner autonomy to the extent that they have often been intended for \\nindependent practice. It should be noted, however, that this link and “future enquiry \\nand practice into technology -mediated learner autonomy will need to be increasingly \\naligned to the tools, settings, and activities that are of significance to language learners” \\n(Reinders & White, 2016, p. 151). Reinders and White (2016) further argue that  as long \\nas “the potential range of settings, tools, and experiences is now virtually limitless, \\nindividuals need to be increasingly adept at critical adaptive learning in order to benefit',\n",
       "  'metadata': {'creationdate': '2018-03-05T09:43:57+01:00',\n",
       "   'page_label': '1',\n",
       "   'creator': 'Microsoft® Word 2016',\n",
       "   'author': 'agimeno',\n",
       "   'page': 0,\n",
       "   'source_file': 'test2.pdf',\n",
       "   'doc_index': 2,\n",
       "   'file_type': 'pdf',\n",
       "   'producer': 'Microsoft® Word 2016',\n",
       "   'moddate': '2018-03-12T10:24:10-04:00',\n",
       "   'total_pages': 11,\n",
       "   'content_length': 936,\n",
       "   'source': '..\\\\data\\\\pdf\\\\test2.pdf'},\n",
       "  'similarity_score': 0.11202752590179443,\n",
       "  'distance': 0.8879724740982056,\n",
       "  'rank': 1},\n",
       " {'id': 'doc_a6dd3bbb_2',\n",
       "  'content': 'of mobile apps available, easy access to the internet) and/or the fact tha t they are \\nincreasingly more common among learners make them an important and pot entially \\nuseful addition to formal and informal language learning. \\nAccording to Benson (2011), there has always been a connection between educational \\ntechnologies and learner autonomy to the extent that they have often been intended for \\nindependent practice. It should be noted, however, that this link and “future enquiry \\nand practice into technology -mediated learner autonomy will need to be increasingly \\naligned to the tools, settings, and activities that are of significance to language learners” \\n(Reinders & White, 2016, p. 151). Reinders and White (2016) further argue that  as long \\nas “the potential range of settings, tools, and experiences is now virtually limitless, \\nindividuals need to be increasingly adept at critical adaptive learning in order to benefit',\n",
       "  'metadata': {'content_length': 936,\n",
       "   'doc_index': 2,\n",
       "   'source_file': 'test2.pdf',\n",
       "   'total_pages': 11,\n",
       "   'creator': 'Microsoft® Word 2016',\n",
       "   'moddate': '2018-03-12T10:24:10-04:00',\n",
       "   'file_type': 'pdf',\n",
       "   'page_label': '1',\n",
       "   'creationdate': '2018-03-05T09:43:57+01:00',\n",
       "   'source': '..\\\\data\\\\pdf\\\\test2.pdf',\n",
       "   'page': 0,\n",
       "   'producer': 'Microsoft® Word 2016',\n",
       "   'author': 'agimeno'},\n",
       "  'similarity_score': 0.11202752590179443,\n",
       "  'distance': 0.8879724740982056,\n",
       "  'rank': 2},\n",
       " {'id': 'doc_478ea30b_2',\n",
       "  'content': 'of mobile apps available, easy access to the internet) and/or the fact tha t they are \\nincreasingly more common among learners make them an important and pot entially \\nuseful addition to formal and informal language learning. \\nAccording to Benson (2011), there has always been a connection between educational \\ntechnologies and learner autonomy to the extent that they have often been intended for \\nindependent practice. It should be noted, however, that this link and “future enquiry \\nand practice into technology -mediated learner autonomy will need to be increasingly \\naligned to the tools, settings, and activities that are of significance to language learners” \\n(Reinders & White, 2016, p. 151). Reinders and White (2016) further argue that  as long \\nas “the potential range of settings, tools, and experiences is now virtually limitless, \\nindividuals need to be increasingly adept at critical adaptive learning in order to benefit',\n",
       "  'metadata': {'source_file': 'test2.pdf',\n",
       "   'file_type': 'pdf',\n",
       "   'creationdate': '2018-03-05T09:43:57+01:00',\n",
       "   'page': 0,\n",
       "   'total_pages': 11,\n",
       "   'doc_index': 2,\n",
       "   'page_label': '1',\n",
       "   'author': 'agimeno',\n",
       "   'moddate': '2018-03-12T10:24:10-04:00',\n",
       "   'producer': 'Microsoft® Word 2016',\n",
       "   'content_length': 936,\n",
       "   'creator': 'Microsoft® Word 2016',\n",
       "   'source': '..\\\\data\\\\pdf\\\\test2.pdf'},\n",
       "  'similarity_score': 0.11202752590179443,\n",
       "  'distance': 0.8879724740982056,\n",
       "  'rank': 3},\n",
       " {'id': 'doc_113dce79_2',\n",
       "  'content': 'of mobile apps available, easy access to the internet) and/or the fact tha t they are \\nincreasingly more common among learners make them an important and pot entially \\nuseful addition to formal and informal language learning. \\nAccording to Benson (2011), there has always been a connection between educational \\ntechnologies and learner autonomy to the extent that they have often been intended for \\nindependent practice. It should be noted, however, that this link and “future enquiry \\nand practice into technology -mediated learner autonomy will need to be increasingly \\naligned to the tools, settings, and activities that are of significance to language learners” \\n(Reinders & White, 2016, p. 151). Reinders and White (2016) further argue that  as long \\nas “the potential range of settings, tools, and experiences is now virtually limitless, \\nindividuals need to be increasingly adept at critical adaptive learning in order to benefit',\n",
       "  'metadata': {'creationdate': '2018-03-05T09:43:57+01:00',\n",
       "   'author': 'agimeno',\n",
       "   'moddate': '2018-03-12T10:24:10-04:00',\n",
       "   'doc_index': 2,\n",
       "   'content_length': 936,\n",
       "   'creator': 'Microsoft® Word 2016',\n",
       "   'page': 0,\n",
       "   'page_label': '1',\n",
       "   'file_type': 'pdf',\n",
       "   'total_pages': 11,\n",
       "   'producer': 'Microsoft® Word 2016',\n",
       "   'source_file': 'test2.pdf',\n",
       "   'source': '..\\\\data\\\\pdf\\\\test2.pdf'},\n",
       "  'similarity_score': 0.11202752590179443,\n",
       "  'distance': 0.8879724740982056,\n",
       "  'rank': 4},\n",
       " {'id': 'doc_5341fec8_2',\n",
       "  'content': 'of mobile apps available, easy access to the internet) and/or the fact tha t they are \\nincreasingly more common among learners make them an important and pot entially \\nuseful addition to formal and informal language learning. \\nAccording to Benson (2011), there has always been a connection between educational \\ntechnologies and learner autonomy to the extent that they have often been intended for \\nindependent practice. It should be noted, however, that this link and “future enquiry \\nand practice into technology -mediated learner autonomy will need to be increasingly \\naligned to the tools, settings, and activities that are of significance to language learners” \\n(Reinders & White, 2016, p. 151). Reinders and White (2016) further argue that  as long \\nas “the potential range of settings, tools, and experiences is now virtually limitless, \\nindividuals need to be increasingly adept at critical adaptive learning in order to benefit',\n",
       "  'metadata': {'page': 0,\n",
       "   'page_label': '1',\n",
       "   'creator': 'Microsoft® Word 2016',\n",
       "   'content_length': 936,\n",
       "   'creationdate': '2018-03-05T09:43:57+01:00',\n",
       "   'moddate': '2018-03-12T10:24:10-04:00',\n",
       "   'doc_index': 2,\n",
       "   'producer': 'Microsoft® Word 2016',\n",
       "   'source_file': 'test2.pdf',\n",
       "   'author': 'agimeno',\n",
       "   'source': '..\\\\data\\\\pdf\\\\test2.pdf',\n",
       "   'file_type': 'pdf',\n",
       "   'total_pages': 11},\n",
       "  'similarity_score': 0.11202752590179443,\n",
       "  'distance': 0.8879724740982056,\n",
       "  'rank': 5}]"
      ]
     },
     "execution_count": 102,
     "metadata": {},
     "output_type": "execute_result"
    }
   ],
   "source": [
    "rag_retriever.retrieve(\"look at advanced learners\")"
   ]
  },
  {
   "cell_type": "markdown",
   "id": "c6fb0e10",
   "metadata": {},
   "source": [
    "### Integration Vectordb Context pipeline With LLM output"
   ]
  },
  {
   "cell_type": "code",
   "execution_count": 107,
   "id": "15707d0d",
   "metadata": {},
   "outputs": [],
   "source": [
    "from langchain_deepseek import ChatDeepSeek\n",
    "import os\n",
    "from dotenv import load_dotenv\n",
    "load_dotenv()\n",
    "\n",
    "### Initialize the DeepSeek LLM (set your DEEPSEEK_API_KEY in environment)\n",
    "deepseek_api_key = os.getenv(\"DeepSeek_API_KEY\")\n",
    "\n",
    "# Add the model parameter - DeepSeek's chat model\n",
    "llm = ChatDeepSeek(\n",
    "    model=\"deepseek-chat\",  # or \"deepseek-coder\" for coding tasks\n",
    "    api_key=deepseek_api_key,\n",
    "    temperature=0.1,\n",
    "    max_tokens=1024\n",
    ")\n",
    "\n",
    "## 2. Simple RAG function: retrieve context + generate response\n",
    "def rag_simple(query, retriever, llm, top_k=3):\n",
    "    ## retrieve the context\n",
    "    results = retriever.retrieve(query, top_k=top_k)\n",
    "    context = \"\\n\\n\".join([doc['content'] for doc in results]) if results else \"\"\n",
    "    \n",
    "    if not context:\n",
    "        return \"No relevant context found to answer the question.\"\n",
    "    \n",
    "    ## generate the answer using DeepSeek LLM\n",
    "    prompt = f\"\"\"Use the following context to answer the question concisely.\n",
    "Context:\n",
    "{context}\n",
    "\n",
    "Question: {query}\n",
    "\n",
    "Answer:\"\"\"\n",
    "    \n",
    "    # Note: prompt is already formatted, so just pass it directly\n",
    "    response = llm.invoke([{\"role\": \"user\", \"content\": prompt}])\n",
    "    return response.content"
   ]
  },
  {
   "cell_type": "code",
   "execution_count": 108,
   "id": "f74e2e60",
   "metadata": {},
   "outputs": [
    {
     "name": "stdout",
     "output_type": "stream",
     "text": [
      "Retrieving documents for query: 'look at advanced learner'\n",
      "Top K: 3, Score threshold: 0.0\n",
      "Generating embeddings for 1 texts...\n"
     ]
    },
    {
     "name": "stderr",
     "output_type": "stream",
     "text": [
      "Batches: 100%|██████████| 1/1 [00:00<00:00, 80.48it/s]"
     ]
    },
    {
     "name": "stdout",
     "output_type": "stream",
     "text": [
      "Generated embeddings with shape: (1, 384)\n",
      "Retrieved 3 documents (after filtering)\n"
     ]
    },
    {
     "name": "stderr",
     "output_type": "stream",
     "text": [
      "\n"
     ]
    },
    {
     "name": "stdout",
     "output_type": "stream",
     "text": [
      "Based on the context, an advanced learner needs to be adept at **critical adaptive learning** to benefit from the vast and limitless range of digital tools, settings, and experiences available for language learning.\n"
     ]
    }
   ],
   "source": [
    "answer=rag_simple(\"look at advanced learner\",rag_retriever,llm)\n",
    "print(answer)"
   ]
  },
  {
   "cell_type": "code",
   "execution_count": 109,
   "id": "7a906b6f",
   "metadata": {},
   "outputs": [
    {
     "name": "stdout",
     "output_type": "stream",
     "text": [
      "Retrieving documents for query: 'Hard Negative Mining Technqiues'\n",
      "Top K: 3, Score threshold: 0.1\n",
      "Generating embeddings for 1 texts...\n"
     ]
    },
    {
     "name": "stderr",
     "output_type": "stream",
     "text": [
      "Batches: 100%|██████████| 1/1 [00:00<00:00, 126.98it/s]"
     ]
    },
    {
     "name": "stdout",
     "output_type": "stream",
     "text": [
      "Generated embeddings with shape: (1, 384)\n",
      "Retrieved 0 documents (after filtering)\n",
      "Answer: No relevant context found.\n",
      "Sources: []\n",
      "Confidence: 0.0\n",
      "Context Preview: \n"
     ]
    },
    {
     "name": "stderr",
     "output_type": "stream",
     "text": [
      "\n"
     ]
    }
   ],
   "source": [
    "# --- Enhanced RAG Pipeline Features ---\n",
    "def rag_advanced(query, retriever, llm, top_k=5, min_score=0.2, return_context=False):\n",
    "    \"\"\"\n",
    "    RAG pipeline with extra features:\n",
    "    - Returns answer, sources, confidence score, and optionally full context.\n",
    "    \"\"\"\n",
    "    results = retriever.retrieve(query, top_k=top_k, score_threshold=min_score)\n",
    "    if not results:\n",
    "        return {'answer': 'No relevant context found.', 'sources': [], 'confidence': 0.0, 'context': ''}\n",
    "    \n",
    "    # Prepare context and sources\n",
    "    context = \"\\n\\n\".join([doc['content'] for doc in results])\n",
    "    sources = [{\n",
    "        'source': doc['metadata'].get('source_file', doc['metadata'].get('source', 'unknown')),\n",
    "        'page': doc['metadata'].get('page', 'unknown'),\n",
    "        'score': doc['similarity_score'],\n",
    "        'preview': doc['content'][:300] + '...'\n",
    "    } for doc in results]\n",
    "    confidence = max([doc['similarity_score'] for doc in results])\n",
    "    \n",
    "    # Generate answer\n",
    "    prompt = f\"\"\"Use the following context to answer the question concisely.\\nContext:\\n{context}\\n\\nQuestion: {query}\\n\\nAnswer:\"\"\"\n",
    "    response = llm.invoke([prompt.format(context=context, query=query)])\n",
    "    \n",
    "    output = {\n",
    "        'answer': response.content,\n",
    "        'sources': sources,\n",
    "        'confidence': confidence\n",
    "    }\n",
    "    if return_context:\n",
    "        output['context'] = context\n",
    "    return output\n",
    "\n",
    "# Example usage:\n",
    "result = rag_advanced(\"Hard Negative Mining Technqiues\", rag_retriever, llm, top_k=3, min_score=0.1, return_context=True)\n",
    "print(\"Answer:\", result['answer'])\n",
    "print(\"Sources:\", result['sources'])\n",
    "print(\"Confidence:\", result['confidence'])\n",
    "print(\"Context Preview:\", result['context'][:300])"
   ]
  },
  {
   "cell_type": "code",
   "execution_count": 110,
   "id": "a601a753",
   "metadata": {},
   "outputs": [
    {
     "name": "stdout",
     "output_type": "stream",
     "text": [
      "Retrieving documents for query: 'what is attention is all you need'\n",
      "Top K: 3, Score threshold: 0.1\n",
      "Generating embeddings for 1 texts...\n"
     ]
    },
    {
     "name": "stderr",
     "output_type": "stream",
     "text": [
      "Batches: 100%|██████████| 1/1 [00:00<00:00, 96.82it/s]"
     ]
    },
    {
     "name": "stdout",
     "output_type": "stream",
     "text": [
      "Generated embeddings with shape: (1, 384)\n",
      "Retrieved 0 documents (after filtering)\n"
     ]
    },
    {
     "name": "stderr",
     "output_type": "stream",
     "text": [
      "\n"
     ]
    },
    {
     "name": "stdout",
     "output_type": "stream",
     "text": [
      "\n",
      "Final Answer: No relevant context found.\n",
      "Summary: The system could not locate any relevant information to address the query. Therefore, no summary can be provided.\n",
      "History: {'question': 'what is attention is all you need', 'answer': 'No relevant context found.', 'sources': [], 'summary': 'The system could not locate any relevant information to address the query. Therefore, no summary can be provided.'}\n"
     ]
    }
   ],
   "source": [
    "# --- Advanced RAG Pipeline: Streaming, Citations, History, Summarization ---\n",
    "from typing import List, Dict, Any\n",
    "import time\n",
    "\n",
    "class AdvancedRAGPipeline:\n",
    "    def __init__(self, retriever, llm):\n",
    "        self.retriever = retriever\n",
    "        self.llm = llm\n",
    "        self.history = []  # Store query history\n",
    "\n",
    "    def query(self, question: str, top_k: int = 5, min_score: float = 0.2, stream: bool = False, summarize: bool = False) -> Dict[str, Any]:\n",
    "        # Retrieve relevant documents\n",
    "        results = self.retriever.retrieve(question, top_k=top_k, score_threshold=min_score)\n",
    "        if not results:\n",
    "            answer = \"No relevant context found.\"\n",
    "            sources = []\n",
    "            context = \"\"\n",
    "        else:\n",
    "            context = \"\\n\\n\".join([doc['content'] for doc in results])\n",
    "            sources = [{\n",
    "                'source': doc['metadata'].get('source_file', doc['metadata'].get('source', 'unknown')),\n",
    "                'page': doc['metadata'].get('page', 'unknown'),\n",
    "                'score': doc['similarity_score'],\n",
    "                'preview': doc['content'][:120] + '...'\n",
    "            } for doc in results]\n",
    "            # Streaming answer simulation\n",
    "            prompt = f\"\"\"Use the following context to answer the question concisely.\\nContext:\\n{context}\\n\\nQuestion: {question}\\n\\nAnswer:\"\"\"\n",
    "            if stream:\n",
    "                print(\"Streaming answer:\")\n",
    "                for i in range(0, len(prompt), 80):\n",
    "                    print(prompt[i:i+80], end='', flush=True)\n",
    "                    time.sleep(0.05)\n",
    "                print()\n",
    "            response = self.llm.invoke([prompt.format(context=context, question=question)])\n",
    "            answer = response.content\n",
    "\n",
    "        # Add citations to answer\n",
    "        citations = [f\"[{i+1}] {src['source']} (page {src['page']})\" for i, src in enumerate(sources)]\n",
    "        answer_with_citations = answer + \"\\n\\nCitations:\\n\" + \"\\n\".join(citations) if citations else answer\n",
    "\n",
    "        # Optionally summarize answer\n",
    "        summary = None\n",
    "        if summarize and answer:\n",
    "            summary_prompt = f\"Summarize the following answer in 2 sentences:\\n{answer}\"\n",
    "            summary_resp = self.llm.invoke([summary_prompt])\n",
    "            summary = summary_resp.content\n",
    "\n",
    "        # Store query history\n",
    "        self.history.append({\n",
    "            'question': question,\n",
    "            'answer': answer,\n",
    "            'sources': sources,\n",
    "            'summary': summary\n",
    "        })\n",
    "\n",
    "        return {\n",
    "            'question': question,\n",
    "            'answer': answer_with_citations,\n",
    "            'sources': sources,\n",
    "            'summary': summary,\n",
    "            'history': self.history\n",
    "        }\n",
    "\n",
    "# Example usage:\n",
    "adv_rag = AdvancedRAGPipeline(rag_retriever, llm)\n",
    "result = adv_rag.query(\"what is attention is all you need\", top_k=3, min_score=0.1, stream=True, summarize=True)\n",
    "print(\"\\nFinal Answer:\", result['answer'])\n",
    "print(\"Summary:\", result['summary'])\n",
    "print(\"History:\", result['history'][-1])"
   ]
  }
 ],
 "metadata": {
  "kernelspec": {
   "display_name": "RAG",
   "language": "python",
   "name": "python3"
  },
  "language_info": {
   "codemirror_mode": {
    "name": "ipython",
    "version": 3
   },
   "file_extension": ".py",
   "mimetype": "text/x-python",
   "name": "python",
   "nbconvert_exporter": "python",
   "pygments_lexer": "ipython3",
   "version": "3.12.9"
  }
 },
 "nbformat": 4,
 "nbformat_minor": 5
}
